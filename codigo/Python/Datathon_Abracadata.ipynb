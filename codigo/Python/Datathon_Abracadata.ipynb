{
  "nbformat": 4,
  "nbformat_minor": 0,
  "metadata": {
    "colab": {
      "name": "Datathon Abracadata.ipynb",
      "provenance": [],
      "collapsed_sections": [],
      "toc_visible": true
    },
    "kernelspec": {
      "name": "python3",
      "display_name": "Python 3"
    }
  },
  "cells": [
    {
      "cell_type": "markdown",
      "metadata": {
        "id": "wiQh7WQqSqrA",
        "colab_type": "text"
      },
      "source": [
        "# Datathon 2020 Abraca-data\n"
      ]
    },
    {
      "cell_type": "markdown",
      "metadata": {
        "id": "qO-0bNL9S71C",
        "colab_type": "text"
      },
      "source": [
        "Este es el notebook con los procesos utilizados para tratar de predecir los casos de COVID-19 por pais y dias despues de comenzada la pandemia\n"
      ]
    },
    {
      "cell_type": "markdown",
      "metadata": {
        "id": "tR6Wc659TuAc",
        "colab_type": "text"
      },
      "source": [
        "## Librerias y Prep"
      ]
    },
    {
      "cell_type": "code",
      "metadata": {
        "id": "6U6fuqQTfo5E",
        "colab_type": "code",
        "colab": {
          "base_uri": "https://localhost:8080/",
          "height": 134
        },
        "outputId": "cea1fdbe-f4b8-488b-fd48-7cd7d2399a93"
      },
      "source": [
        "!pip install scikit-optimize"
      ],
      "execution_count": 1,
      "outputs": [
        {
          "output_type": "stream",
          "text": [
            "Requirement already satisfied: scikit-optimize in /usr/local/lib/python3.6/dist-packages (0.7.4)\n",
            "Requirement already satisfied: pyaml>=16.9 in /usr/local/lib/python3.6/dist-packages (from scikit-optimize) (20.4.0)\n",
            "Requirement already satisfied: numpy>=1.11.0 in /usr/local/lib/python3.6/dist-packages (from scikit-optimize) (1.18.5)\n",
            "Requirement already satisfied: scikit-learn>=0.19.1 in /usr/local/lib/python3.6/dist-packages (from scikit-optimize) (0.22.2.post1)\n",
            "Requirement already satisfied: scipy>=0.18.0 in /usr/local/lib/python3.6/dist-packages (from scikit-optimize) (1.4.1)\n",
            "Requirement already satisfied: joblib>=0.11 in /usr/local/lib/python3.6/dist-packages (from scikit-optimize) (0.15.1)\n",
            "Requirement already satisfied: PyYAML in /usr/local/lib/python3.6/dist-packages (from pyaml>=16.9->scikit-optimize) (3.13)\n"
          ],
          "name": "stdout"
        }
      ]
    },
    {
      "cell_type": "code",
      "metadata": {
        "id": "__-Heo8yW3tx",
        "colab_type": "code",
        "colab": {
          "base_uri": "https://localhost:8080/",
          "height": 70
        },
        "outputId": "1bd5b196-2067-46d0-a1fa-c13c71ac2eff"
      },
      "source": [
        "import numpy as np\n",
        "import pandas as pd\n",
        "import regex as re\n",
        "from datetime import datetime\n",
        "import matplotlib as mtpl\n",
        "import matplotlib.pyplot as plt\n",
        "from google.colab import drive\n",
        "from sklearn.experimental import enable_iterative_imputer  # noqa\n",
        "from sklearn.impute import IterativeImputer\n",
        "from sklearn.linear_model import LinearRegression,BayesianRidge,Ridge\n",
        "from sklearn.svm import SVR\n",
        "from sklearn.tree import DecisionTreeRegressor\n",
        "from sklearn.ensemble import ExtraTreesRegressor,RandomForestRegressor\n",
        "from sklearn.neighbors import KNeighborsRegressor\n",
        "from sklearn.pipeline import make_pipeline\n",
        "from sklearn.metrics import mean_absolute_error,make_scorer,SCORERS\n",
        "from sklearn.model_selection import cross_val_score,KFold,cross_val_predict,cross_validate\n",
        "from sklearn.preprocessing import FunctionTransformer, StandardScaler\n",
        "from sklearn.compose import TransformedTargetRegressor\n",
        "from sklearn.neural_network import MLPRegressor\n",
        "from sklearn.ensemble import StackingRegressor\n",
        "from lightgbm import LGBMRegressor\n",
        "from xgboost import XGBRegressor\n",
        "from skopt import gp_minimize\n",
        "from skopt.space import Real, Integer\n",
        "from skopt.plots import plot_convergence,plot_evaluations\n",
        "from skopt.utils import use_named_args\n",
        "from mlxtend.feature_selection import SequentialFeatureSelector\n",
        "from mlxtend.plotting import plot_sequential_feature_selection as plot_sfs"
      ],
      "execution_count": 2,
      "outputs": [
        {
          "output_type": "stream",
          "text": [
            "/usr/local/lib/python3.6/dist-packages/sklearn/externals/joblib/__init__.py:15: FutureWarning: sklearn.externals.joblib is deprecated in 0.21 and will be removed in 0.23. Please import this functionality directly from joblib, which can be installed with: pip install joblib. If this warning is raised when loading pickled models, you may need to re-serialize those models with scikit-learn 0.21+.\n",
            "  warnings.warn(msg, category=FutureWarning)\n"
          ],
          "name": "stderr"
        }
      ]
    },
    {
      "cell_type": "code",
      "metadata": {
        "id": "Y-UHDGwlMki7",
        "colab_type": "code",
        "colab": {}
      },
      "source": [
        "mtpl.rcParams['figure.figsize'] = [15, 4]"
      ],
      "execution_count": 3,
      "outputs": []
    },
    {
      "cell_type": "code",
      "metadata": {
        "id": "81QkDNtsbVsI",
        "colab_type": "code",
        "colab": {}
      },
      "source": [
        "strat_k_fold = KFold(n_splits=3, shuffle=True, random_state=2020)"
      ],
      "execution_count": 4,
      "outputs": []
    },
    {
      "cell_type": "code",
      "metadata": {
        "id": "zyPvld86Tzpv",
        "colab_type": "code",
        "colab": {
          "base_uri": "https://localhost:8080/",
          "height": 34
        },
        "outputId": "473aaed2-f908-48d5-8fc7-324c18736839"
      },
      "source": [
        "drive.mount('/content/drive')"
      ],
      "execution_count": 5,
      "outputs": [
        {
          "output_type": "stream",
          "text": [
            "Drive already mounted at /content/drive; to attempt to forcibly remount, call drive.mount(\"/content/drive\", force_remount=True).\n"
          ],
          "name": "stdout"
        }
      ]
    },
    {
      "cell_type": "markdown",
      "metadata": {
        "id": "8368pZpSWoAZ",
        "colab_type": "text"
      },
      "source": [
        "En el drive del datathon, subimos los archivos a utilizar y los tenemos accesibles aqui:"
      ]
    },
    {
      "cell_type": "code",
      "metadata": {
        "id": "OuQGP7AEV-2x",
        "colab_type": "code",
        "colab": {
          "base_uri": "https://localhost:8080/",
          "height": 101
        },
        "outputId": "4ec9f8b7-d1a9-4547-9b7b-970a329c566b"
      },
      "source": [
        "!ls \"/content/drive/My Drive/Datathon 2020\"\n",
        "#!ls \"content/drive/Shared with me/Datathon 2020/\""
      ],
      "execution_count": 6,
      "outputs": [
        {
          "output_type": "stream",
          "text": [
            " data\t\t\t       'Slides a cambiar.pptx'\n",
            "'Datathon 2020 – Reto 2.pptx'  'Untitled Diagram (1).png'\n",
            "'Datathon Abracadata.ipynb'    'Untitled Diagram (2).png'\n",
            "'Flujo Modelos.jpg'\t       'Untitled Diagram.png'\n",
            " logos\n"
          ],
          "name": "stdout"
        }
      ]
    },
    {
      "cell_type": "markdown",
      "metadata": {
        "id": "kaWi5HOGiK1k",
        "colab_type": "text"
      },
      "source": [
        "## Cargando data y datos complementarios\n"
      ]
    },
    {
      "cell_type": "markdown",
      "metadata": {
        "id": "pOiChYTyi317",
        "colab_type": "text"
      },
      "source": [
        "Cuando nos pasen la data y tengamos datasets propios elaborados, en esta seccion se homologa esa data ya procesada con la data que ya tendremos del concurso, para consolidar todo, al final debe declararse X e Y, en donde X es la matriz de variables e Y es el vector de la variable objetivo."
      ]
    },
    {
      "cell_type": "markdown",
      "metadata": {
        "id": "TRsvxc-L0E7K",
        "colab_type": "text"
      },
      "source": [
        "Es importante recalcar que la unica modificacion previa fue que se cambio el nombre de :\"occupied Palestinian territory, including eas...\" a \"OPTJ\", ya que este nombre dañaba esta fila del archivo."
      ]
    },
    {
      "cell_type": "code",
      "metadata": {
        "id": "gN8WOyFTk1xZ",
        "colab_type": "code",
        "colab": {}
      },
      "source": [
        "base=pd.read_csv('/content/drive/My Drive/Datathon 2020/data/DATA_RETO_2.csv', encoding = 'iso-8859-1',quotechar='\"')\n",
        "continent=pd.get_dummies(base['continent'])\n",
        "who_region=pd.get_dummies(base['who_region'])\n",
        "base=pd.concat([base,continent,who_region],axis=1)\n",
        "#base=base[base.iso.notnull()]"
      ],
      "execution_count": 7,
      "outputs": []
    },
    {
      "cell_type": "markdown",
      "metadata": {
        "id": "JXQqSZuUnjVl",
        "colab_type": "text"
      },
      "source": [
        "Lo primero que debemos hacer es reemplazar los ceros en algunas variables por NaNs, ya que es imposible (o en algunos casos solo poco probable) que sean 0 (median_age,aged_65_older,aged_70_older)"
      ]
    },
    {
      "cell_type": "code",
      "metadata": {
        "id": "9GEgDFjipIO_",
        "colab_type": "code",
        "colab": {}
      },
      "source": [
        "base[['median_age','aged_65_older','aged_70_older','cvd_death_rate','life_expectancy']]=base[['median_age','aged_65_older','aged_70_older','cvd_death_rate','life_expectancy']].replace(0,np.nan)"
      ],
      "execution_count": 8,
      "outputs": []
    },
    {
      "cell_type": "markdown",
      "metadata": {
        "id": "vIJtun-XqW3C",
        "colab_type": "text"
      },
      "source": [
        "Luego de hacer esto, inspeccionemos cuantos valores faltantes tenemos para cada variable"
      ]
    },
    {
      "cell_type": "code",
      "metadata": {
        "id": "QQnivq_Fm9_n",
        "colab_type": "code",
        "colab": {
          "base_uri": "https://localhost:8080/",
          "height": 890
        },
        "outputId": "088e756e-58f6-4184-b2a6-d974b1eb2c94"
      },
      "source": [
        "cols_with_missings = []\n",
        "for col in base.columns:\n",
        "    if ~(base.dtypes[col]==np.object):\n",
        "        missings = np.sum(pd.isna(base[col]))\n",
        "        print(col, ':', missings)\n",
        "        if missings:\n",
        "            cols_with_missings += [col]"
      ],
      "execution_count": 9,
      "outputs": [
        {
          "output_type": "stream",
          "text": [
            "country : 0\n",
            "country_code : 1\n",
            "iso : 0\n",
            "date : 0\n",
            "continent : 0\n",
            "who_region : 0\n",
            "day_of_infection : 0\n",
            "latitude : 6\n",
            "longitude : 6\n",
            "population : 0\n",
            "population_density : 7\n",
            "median_age : 20\n",
            "aged_65_older : 21\n",
            "aged_70_older : 21\n",
            "gdp_per_capita : 22\n",
            "extreme_poverty : 82\n",
            "cvd_death_rate : 19\n",
            "diabetes_prevalence : 5\n",
            "female_smokers : 63\n",
            "male_smokers : 63\n",
            "handwashing_facilities : 111\n",
            "hospital_beds_per_thousand : 5\n",
            "life_expectancy : 2\n",
            "border_closure : 0\n",
            "wear_protective_gear_in_public_requirement : 0\n",
            "businesses_and_public_services_closure : 0\n",
            "curfews : 0\n",
            "economic_measures : 0\n",
            "suspension_international_flights : 0\n",
            "imports_exports_limit : 0\n",
            "gatherings_limit : 0\n",
            "partial_lockdown : 0\n",
            "schools_closure : 0\n",
            "established_emergency : 0\n",
            "quarantine_isolation_policies : 0\n",
            "full_lockdown : 0\n",
            "mass_testing : 0\n",
            "checkpoints_within_the_country : 0\n",
            "military_deployment : 0\n",
            "cumulative_cases : 0\n",
            "Africa : 0\n",
            "Asia : 0\n",
            "Europe : 0\n",
            "North America : 0\n",
            "Oceania : 0\n",
            "South America : 0\n",
            "AFRO : 0\n",
            "AMRO : 0\n",
            "EMRO : 0\n",
            "EURO : 0\n",
            "SEARO : 0\n",
            "WPRO : 0\n"
          ],
          "name": "stdout"
        }
      ]
    },
    {
      "cell_type": "markdown",
      "metadata": {
        "id": "mefCfHWFdQxx",
        "colab_type": "text"
      },
      "source": [
        "Para complementar los missing values, tratamos de conseguir fuentes de información alterna para tratar de llenar los missing values que teniamos"
      ]
    },
    {
      "cell_type": "code",
      "metadata": {
        "id": "HzauFkRzdqUW",
        "colab_type": "code",
        "colab": {}
      },
      "source": [
        "#para_llenado=pd.read_csv('/content/drive/My Drive/Datathon 2020/data/data_completa_parte.csv', encoding = 'iso-8859-1',sep=';')\n",
        "#para_llenado=para_llenado[para_llenado.iso.notnull()].add_suffix('_for_fill')\n",
        "#para_llenado.head()"
      ],
      "execution_count": 10,
      "outputs": []
    },
    {
      "cell_type": "code",
      "metadata": {
        "id": "ZwyUgSusjLah",
        "colab_type": "code",
        "colab": {}
      },
      "source": [
        "#data_merged=pd.merge(base,para_llenado,how='left', left_on='iso', right_on='iso_for_fill')\n",
        "#data_merged.shape"
      ],
      "execution_count": 11,
      "outputs": []
    },
    {
      "cell_type": "code",
      "metadata": {
        "id": "DdV5WljQq_Aj",
        "colab_type": "code",
        "colab": {}
      },
      "source": [
        "#base.shape"
      ],
      "execution_count": 12,
      "outputs": []
    },
    {
      "cell_type": "code",
      "metadata": {
        "id": "nPDVSGj3qOEW",
        "colab_type": "code",
        "colab": {}
      },
      "source": [
        "#cols_with_missings"
      ],
      "execution_count": 13,
      "outputs": []
    },
    {
      "cell_type": "code",
      "metadata": {
        "id": "14gS8KDOoVCX",
        "colab_type": "code",
        "colab": {}
      },
      "source": [
        "#for column in cols_with_missings:\n",
        " # col_nueva=column+\"_for_fill\"\n",
        " # if col_nueva in data_merged.columns:\n",
        " #   base[column]=np.where(data_merged[column].isnull(), data_merged[col_nueva], data_merged[column] )"
      ],
      "execution_count": 14,
      "outputs": []
    },
    {
      "cell_type": "code",
      "metadata": {
        "id": "LAxUHs17rtHX",
        "colab_type": "code",
        "colab": {}
      },
      "source": [
        "#cols_with_missings = []\n",
        "#for col in base.columns:\n",
        "#    if ~(base.dtypes[col]==np.object):\n",
        "#        missings = np.sum(pd.isna(base[col]))\n",
        "#        print(col, ':', missings)\n",
        "#        if missings:\n",
        "#            cols_with_missings += [col]"
      ],
      "execution_count": 15,
      "outputs": []
    },
    {
      "cell_type": "markdown",
      "metadata": {
        "id": "oaqjHi1Ir6m1",
        "colab_type": "text"
      },
      "source": [
        ""
      ]
    },
    {
      "cell_type": "code",
      "metadata": {
        "id": "csYFsPRXsvDF",
        "colab_type": "code",
        "colab": {
          "base_uri": "https://localhost:8080/",
          "height": 215
        },
        "outputId": "06118831-d551-49d1-c190-70dc7e0a66cb"
      },
      "source": [
        "variables_adicionales=pd.read_csv('/content/drive/My Drive/Datathon 2020/data/otros_indicadores/otros_indicadores.csv', encoding = 'iso-8859-1',sep=',')\n",
        "variables_adicionales['turismo']=np.where(variables_adicionales['tourism_2018'].isnull(), variables_adicionales['tourism_2017'], variables_adicionales['tourism_2018'] )\n",
        "variables_adicionales['n_cities_1']=np.where(variables_adicionales['n_cities_1'].isnull(),0, variables_adicionales['n_cities_1'] )\n",
        "variables_adicionales['n_cities_2']=np.where(variables_adicionales['n_cities_2'].isnull(),0, variables_adicionales['n_cities_2'] )\n",
        "variables_adicionales['n_cities_3']=np.where(variables_adicionales['n_cities_3'].isnull(),0, variables_adicionales['n_cities_3'] )\n",
        "variables_adicionales['n_cities_4']=np.where(variables_adicionales['n_cities_4'].isnull(),0, variables_adicionales['n_cities_4'] )\n",
        "variables_adicionales.head()"
      ],
      "execution_count": 16,
      "outputs": [
        {
          "output_type": "execute_result",
          "data": {
            "text/html": [
              "<div>\n",
              "<style scoped>\n",
              "    .dataframe tbody tr th:only-of-type {\n",
              "        vertical-align: middle;\n",
              "    }\n",
              "\n",
              "    .dataframe tbody tr th {\n",
              "        vertical-align: top;\n",
              "    }\n",
              "\n",
              "    .dataframe thead th {\n",
              "        text-align: right;\n",
              "    }\n",
              "</style>\n",
              "<table border=\"1\" class=\"dataframe\">\n",
              "  <thead>\n",
              "    <tr style=\"text-align: right;\">\n",
              "      <th></th>\n",
              "      <th>country</th>\n",
              "      <th>country_code</th>\n",
              "      <th>iso</th>\n",
              "      <th>n_airports</th>\n",
              "      <th>airports_per_pop</th>\n",
              "      <th>tourism_2017</th>\n",
              "      <th>tourism_2018</th>\n",
              "      <th>temperatura</th>\n",
              "      <th>precip</th>\n",
              "      <th>PERC_POBLACION_RURAL</th>\n",
              "      <th>prison_pop</th>\n",
              "      <th>diabetes</th>\n",
              "      <th>expend__health_public</th>\n",
              "      <th>expend_health_tot</th>\n",
              "      <th>gdp_per_capita_ppp</th>\n",
              "      <th>HIV</th>\n",
              "      <th>lit_rate</th>\n",
              "      <th>non_transm_mortality</th>\n",
              "      <th>num_physicians</th>\n",
              "      <th>tuberculosis</th>\n",
              "      <th>n_cities_1</th>\n",
              "      <th>n_cities_2</th>\n",
              "      <th>n_cities_3</th>\n",
              "      <th>n_cities_4</th>\n",
              "      <th>turismo</th>\n",
              "    </tr>\n",
              "  </thead>\n",
              "  <tbody>\n",
              "    <tr>\n",
              "      <th>0</th>\n",
              "      <td>Afghanistan</td>\n",
              "      <td>AF</td>\n",
              "      <td>AFG</td>\n",
              "      <td>52.0</td>\n",
              "      <td>1.335788</td>\n",
              "      <td>NaN</td>\n",
              "      <td>NaN</td>\n",
              "      <td>12.921455</td>\n",
              "      <td>311.321856</td>\n",
              "      <td>74.505</td>\n",
              "      <td>76</td>\n",
              "      <td>9.2</td>\n",
              "      <td>0.600144</td>\n",
              "      <td>11.777194</td>\n",
              "      <td>2225.761336</td>\n",
              "      <td>0.1</td>\n",
              "      <td>43.01972</td>\n",
              "      <td>29.8</td>\n",
              "      <td>0.2782</td>\n",
              "      <td>189.0</td>\n",
              "      <td>12.0</td>\n",
              "      <td>1.0</td>\n",
              "      <td>0.0</td>\n",
              "      <td>0.0</td>\n",
              "      <td>NaN</td>\n",
              "    </tr>\n",
              "    <tr>\n",
              "      <th>1</th>\n",
              "      <td>Albania</td>\n",
              "      <td>AL</td>\n",
              "      <td>ALB</td>\n",
              "      <td>4.0</td>\n",
              "      <td>1.389951</td>\n",
              "      <td>4643000.0</td>\n",
              "      <td>5340000.0</td>\n",
              "      <td>11.269800</td>\n",
              "      <td>1053.235184</td>\n",
              "      <td>39.681</td>\n",
              "      <td>158</td>\n",
              "      <td>9.0</td>\n",
              "      <td>4.277554</td>\n",
              "      <td>NaN</td>\n",
              "      <td>13835.548306</td>\n",
              "      <td>NaN</td>\n",
              "      <td>98.14115</td>\n",
              "      <td>17.0</td>\n",
              "      <td>1.2164</td>\n",
              "      <td>18.0</td>\n",
              "      <td>4.0</td>\n",
              "      <td>0.0</td>\n",
              "      <td>0.0</td>\n",
              "      <td>0.0</td>\n",
              "      <td>5340000.0</td>\n",
              "    </tr>\n",
              "    <tr>\n",
              "      <th>2</th>\n",
              "      <td>Algeria</td>\n",
              "      <td>DZ</td>\n",
              "      <td>DZA</td>\n",
              "      <td>157.0</td>\n",
              "      <td>3.580303</td>\n",
              "      <td>2451000.0</td>\n",
              "      <td>2657000.0</td>\n",
              "      <td>22.575791</td>\n",
              "      <td>81.973549</td>\n",
              "      <td>27.371</td>\n",
              "      <td>162</td>\n",
              "      <td>6.7</td>\n",
              "      <td>4.204164</td>\n",
              "      <td>6.374322</td>\n",
              "      <td>11759.196587</td>\n",
              "      <td>0.1</td>\n",
              "      <td>81.40784</td>\n",
              "      <td>14.2</td>\n",
              "      <td>1.7193</td>\n",
              "      <td>69.0</td>\n",
              "      <td>34.0</td>\n",
              "      <td>1.0</td>\n",
              "      <td>0.0</td>\n",
              "      <td>0.0</td>\n",
              "      <td>2657000.0</td>\n",
              "    </tr>\n",
              "    <tr>\n",
              "      <th>3</th>\n",
              "      <td>Andorra</td>\n",
              "      <td>AD</td>\n",
              "      <td>AND</td>\n",
              "      <td>NaN</td>\n",
              "      <td>NaN</td>\n",
              "      <td>3003000.0</td>\n",
              "      <td>3042000.0</td>\n",
              "      <td>NaN</td>\n",
              "      <td>NaN</td>\n",
              "      <td>11.938</td>\n",
              "      <td>38</td>\n",
              "      <td>7.7</td>\n",
              "      <td>5.060373</td>\n",
              "      <td>10.320552</td>\n",
              "      <td>NaN</td>\n",
              "      <td>NaN</td>\n",
              "      <td>NaN</td>\n",
              "      <td>NaN</td>\n",
              "      <td>3.3333</td>\n",
              "      <td>3.0</td>\n",
              "      <td>0.0</td>\n",
              "      <td>0.0</td>\n",
              "      <td>0.0</td>\n",
              "      <td>0.0</td>\n",
              "      <td>3042000.0</td>\n",
              "    </tr>\n",
              "    <tr>\n",
              "      <th>4</th>\n",
              "      <td>Angola</td>\n",
              "      <td>AO</td>\n",
              "      <td>AGO</td>\n",
              "      <td>176.0</td>\n",
              "      <td>5.355035</td>\n",
              "      <td>261000.0</td>\n",
              "      <td>218000.0</td>\n",
              "      <td>21.510933</td>\n",
              "      <td>991.305683</td>\n",
              "      <td>34.486</td>\n",
              "      <td>105</td>\n",
              "      <td>4.5</td>\n",
              "      <td>1.291869</td>\n",
              "      <td>2.791500</td>\n",
              "      <td>7092.990319</td>\n",
              "      <td>2.0</td>\n",
              "      <td>66.03011</td>\n",
              "      <td>16.5</td>\n",
              "      <td>0.2146</td>\n",
              "      <td>355.0</td>\n",
              "      <td>8.0</td>\n",
              "      <td>2.0</td>\n",
              "      <td>1.0</td>\n",
              "      <td>0.0</td>\n",
              "      <td>218000.0</td>\n",
              "    </tr>\n",
              "  </tbody>\n",
              "</table>\n",
              "</div>"
            ],
            "text/plain": [
              "       country country_code  iso  ...  n_cities_3  n_cities_4    turismo\n",
              "0  Afghanistan           AF  AFG  ...         0.0         0.0        NaN\n",
              "1      Albania           AL  ALB  ...         0.0         0.0  5340000.0\n",
              "2      Algeria           DZ  DZA  ...         0.0         0.0  2657000.0\n",
              "3      Andorra           AD  AND  ...         0.0         0.0  3042000.0\n",
              "4       Angola           AO  AGO  ...         1.0         0.0   218000.0\n",
              "\n",
              "[5 rows x 25 columns]"
            ]
          },
          "metadata": {
            "tags": []
          },
          "execution_count": 16
        }
      ]
    },
    {
      "cell_type": "code",
      "metadata": {
        "id": "xb0NuKsKuFOk",
        "colab_type": "code",
        "colab": {
          "base_uri": "https://localhost:8080/",
          "height": 400
        },
        "outputId": "888e9d85-a365-4237-9500-dea0bd3ff86d"
      },
      "source": [
        "base_completa=pd.merge(base,variables_adicionales,how='left', left_on='iso', right_on='iso')\n",
        "base_completa.head()"
      ],
      "execution_count": 17,
      "outputs": [
        {
          "output_type": "execute_result",
          "data": {
            "text/html": [
              "<div>\n",
              "<style scoped>\n",
              "    .dataframe tbody tr th:only-of-type {\n",
              "        vertical-align: middle;\n",
              "    }\n",
              "\n",
              "    .dataframe tbody tr th {\n",
              "        vertical-align: top;\n",
              "    }\n",
              "\n",
              "    .dataframe thead th {\n",
              "        text-align: right;\n",
              "    }\n",
              "</style>\n",
              "<table border=\"1\" class=\"dataframe\">\n",
              "  <thead>\n",
              "    <tr style=\"text-align: right;\">\n",
              "      <th></th>\n",
              "      <th>country_x</th>\n",
              "      <th>country_code_x</th>\n",
              "      <th>iso</th>\n",
              "      <th>date</th>\n",
              "      <th>continent</th>\n",
              "      <th>who_region</th>\n",
              "      <th>day_of_infection</th>\n",
              "      <th>latitude</th>\n",
              "      <th>longitude</th>\n",
              "      <th>population</th>\n",
              "      <th>population_density</th>\n",
              "      <th>median_age</th>\n",
              "      <th>aged_65_older</th>\n",
              "      <th>aged_70_older</th>\n",
              "      <th>gdp_per_capita</th>\n",
              "      <th>extreme_poverty</th>\n",
              "      <th>cvd_death_rate</th>\n",
              "      <th>diabetes_prevalence</th>\n",
              "      <th>female_smokers</th>\n",
              "      <th>male_smokers</th>\n",
              "      <th>handwashing_facilities</th>\n",
              "      <th>hospital_beds_per_thousand</th>\n",
              "      <th>life_expectancy</th>\n",
              "      <th>border_closure</th>\n",
              "      <th>wear_protective_gear_in_public_requirement</th>\n",
              "      <th>businesses_and_public_services_closure</th>\n",
              "      <th>curfews</th>\n",
              "      <th>economic_measures</th>\n",
              "      <th>suspension_international_flights</th>\n",
              "      <th>imports_exports_limit</th>\n",
              "      <th>gatherings_limit</th>\n",
              "      <th>partial_lockdown</th>\n",
              "      <th>schools_closure</th>\n",
              "      <th>established_emergency</th>\n",
              "      <th>quarantine_isolation_policies</th>\n",
              "      <th>full_lockdown</th>\n",
              "      <th>mass_testing</th>\n",
              "      <th>checkpoints_within_the_country</th>\n",
              "      <th>military_deployment</th>\n",
              "      <th>cumulative_cases</th>\n",
              "      <th>Africa</th>\n",
              "      <th>Asia</th>\n",
              "      <th>Europe</th>\n",
              "      <th>North America</th>\n",
              "      <th>Oceania</th>\n",
              "      <th>South America</th>\n",
              "      <th>AFRO</th>\n",
              "      <th>AMRO</th>\n",
              "      <th>EMRO</th>\n",
              "      <th>EURO</th>\n",
              "      <th>SEARO</th>\n",
              "      <th>WPRO</th>\n",
              "      <th>country_y</th>\n",
              "      <th>country_code_y</th>\n",
              "      <th>n_airports</th>\n",
              "      <th>airports_per_pop</th>\n",
              "      <th>tourism_2017</th>\n",
              "      <th>tourism_2018</th>\n",
              "      <th>temperatura</th>\n",
              "      <th>precip</th>\n",
              "      <th>PERC_POBLACION_RURAL</th>\n",
              "      <th>prison_pop</th>\n",
              "      <th>diabetes</th>\n",
              "      <th>expend__health_public</th>\n",
              "      <th>expend_health_tot</th>\n",
              "      <th>gdp_per_capita_ppp</th>\n",
              "      <th>HIV</th>\n",
              "      <th>lit_rate</th>\n",
              "      <th>non_transm_mortality</th>\n",
              "      <th>num_physicians</th>\n",
              "      <th>tuberculosis</th>\n",
              "      <th>n_cities_1</th>\n",
              "      <th>n_cities_2</th>\n",
              "      <th>n_cities_3</th>\n",
              "      <th>n_cities_4</th>\n",
              "      <th>turismo</th>\n",
              "    </tr>\n",
              "  </thead>\n",
              "  <tbody>\n",
              "    <tr>\n",
              "      <th>0</th>\n",
              "      <td>Afghanistan</td>\n",
              "      <td>AF</td>\n",
              "      <td>AFG</td>\n",
              "      <td>12-04-2020</td>\n",
              "      <td>Asia</td>\n",
              "      <td>EMRO</td>\n",
              "      <td>48</td>\n",
              "      <td>33.0000</td>\n",
              "      <td>65.0000</td>\n",
              "      <td>38928341</td>\n",
              "      <td>54.422</td>\n",
              "      <td>18.6</td>\n",
              "      <td>2.581</td>\n",
              "      <td>1.337</td>\n",
              "      <td>1803.987</td>\n",
              "      <td>NaN</td>\n",
              "      <td>597.029</td>\n",
              "      <td>9.59</td>\n",
              "      <td>NaN</td>\n",
              "      <td>NaN</td>\n",
              "      <td>37.746</td>\n",
              "      <td>0.50</td>\n",
              "      <td>64.83</td>\n",
              "      <td>1</td>\n",
              "      <td>0</td>\n",
              "      <td>0</td>\n",
              "      <td>0</td>\n",
              "      <td>0</td>\n",
              "      <td>1</td>\n",
              "      <td>1</td>\n",
              "      <td>1</td>\n",
              "      <td>1</td>\n",
              "      <td>1</td>\n",
              "      <td>1</td>\n",
              "      <td>1</td>\n",
              "      <td>0</td>\n",
              "      <td>0</td>\n",
              "      <td>0</td>\n",
              "      <td>0</td>\n",
              "      <td>555</td>\n",
              "      <td>0</td>\n",
              "      <td>1</td>\n",
              "      <td>0</td>\n",
              "      <td>0</td>\n",
              "      <td>0</td>\n",
              "      <td>0</td>\n",
              "      <td>0</td>\n",
              "      <td>0</td>\n",
              "      <td>1</td>\n",
              "      <td>0</td>\n",
              "      <td>0</td>\n",
              "      <td>0</td>\n",
              "      <td>Afghanistan</td>\n",
              "      <td>AF</td>\n",
              "      <td>52.0</td>\n",
              "      <td>1.335788</td>\n",
              "      <td>NaN</td>\n",
              "      <td>NaN</td>\n",
              "      <td>12.921455</td>\n",
              "      <td>311.321856</td>\n",
              "      <td>74.505</td>\n",
              "      <td>76</td>\n",
              "      <td>9.2</td>\n",
              "      <td>0.600144</td>\n",
              "      <td>11.777194</td>\n",
              "      <td>2225.761336</td>\n",
              "      <td>0.1</td>\n",
              "      <td>43.01972</td>\n",
              "      <td>29.8</td>\n",
              "      <td>0.2782</td>\n",
              "      <td>189.0</td>\n",
              "      <td>12.0</td>\n",
              "      <td>1.0</td>\n",
              "      <td>0.0</td>\n",
              "      <td>0.0</td>\n",
              "      <td>NaN</td>\n",
              "    </tr>\n",
              "    <tr>\n",
              "      <th>1</th>\n",
              "      <td>Albania</td>\n",
              "      <td>AL</td>\n",
              "      <td>ALB</td>\n",
              "      <td>09-04-2020</td>\n",
              "      <td>Europe</td>\n",
              "      <td>EURO</td>\n",
              "      <td>31</td>\n",
              "      <td>41.1533</td>\n",
              "      <td>20.1683</td>\n",
              "      <td>2877800</td>\n",
              "      <td>104.871</td>\n",
              "      <td>38.0</td>\n",
              "      <td>13.188</td>\n",
              "      <td>8.643</td>\n",
              "      <td>11803.431</td>\n",
              "      <td>1.1</td>\n",
              "      <td>304.195</td>\n",
              "      <td>10.08</td>\n",
              "      <td>7.1</td>\n",
              "      <td>51.2</td>\n",
              "      <td>NaN</td>\n",
              "      <td>2.89</td>\n",
              "      <td>78.57</td>\n",
              "      <td>1</td>\n",
              "      <td>0</td>\n",
              "      <td>1</td>\n",
              "      <td>1</td>\n",
              "      <td>1</td>\n",
              "      <td>1</td>\n",
              "      <td>1</td>\n",
              "      <td>1</td>\n",
              "      <td>1</td>\n",
              "      <td>1</td>\n",
              "      <td>1</td>\n",
              "      <td>1</td>\n",
              "      <td>0</td>\n",
              "      <td>0</td>\n",
              "      <td>1</td>\n",
              "      <td>1</td>\n",
              "      <td>409</td>\n",
              "      <td>0</td>\n",
              "      <td>0</td>\n",
              "      <td>1</td>\n",
              "      <td>0</td>\n",
              "      <td>0</td>\n",
              "      <td>0</td>\n",
              "      <td>0</td>\n",
              "      <td>0</td>\n",
              "      <td>0</td>\n",
              "      <td>1</td>\n",
              "      <td>0</td>\n",
              "      <td>0</td>\n",
              "      <td>Albania</td>\n",
              "      <td>AL</td>\n",
              "      <td>4.0</td>\n",
              "      <td>1.389951</td>\n",
              "      <td>4643000.0</td>\n",
              "      <td>5340000.0</td>\n",
              "      <td>11.269800</td>\n",
              "      <td>1053.235184</td>\n",
              "      <td>39.681</td>\n",
              "      <td>158</td>\n",
              "      <td>9.0</td>\n",
              "      <td>4.277554</td>\n",
              "      <td>NaN</td>\n",
              "      <td>13835.548306</td>\n",
              "      <td>NaN</td>\n",
              "      <td>98.14115</td>\n",
              "      <td>17.0</td>\n",
              "      <td>1.2164</td>\n",
              "      <td>18.0</td>\n",
              "      <td>4.0</td>\n",
              "      <td>0.0</td>\n",
              "      <td>0.0</td>\n",
              "      <td>0.0</td>\n",
              "      <td>5340000.0</td>\n",
              "    </tr>\n",
              "    <tr>\n",
              "      <th>2</th>\n",
              "      <td>Algeria</td>\n",
              "      <td>DZ</td>\n",
              "      <td>DZA</td>\n",
              "      <td>02-04-2020</td>\n",
              "      <td>Africa</td>\n",
              "      <td>AFRO</td>\n",
              "      <td>37</td>\n",
              "      <td>28.0339</td>\n",
              "      <td>1.6596</td>\n",
              "      <td>43851043</td>\n",
              "      <td>17.348</td>\n",
              "      <td>29.1</td>\n",
              "      <td>6.211</td>\n",
              "      <td>3.857</td>\n",
              "      <td>13913.839</td>\n",
              "      <td>0.5</td>\n",
              "      <td>278.364</td>\n",
              "      <td>6.73</td>\n",
              "      <td>0.7</td>\n",
              "      <td>30.4</td>\n",
              "      <td>83.741</td>\n",
              "      <td>1.90</td>\n",
              "      <td>76.88</td>\n",
              "      <td>1</td>\n",
              "      <td>0</td>\n",
              "      <td>1</td>\n",
              "      <td>1</td>\n",
              "      <td>0</td>\n",
              "      <td>1</td>\n",
              "      <td>0</td>\n",
              "      <td>1</td>\n",
              "      <td>1</td>\n",
              "      <td>1</td>\n",
              "      <td>1</td>\n",
              "      <td>1</td>\n",
              "      <td>1</td>\n",
              "      <td>0</td>\n",
              "      <td>1</td>\n",
              "      <td>1</td>\n",
              "      <td>847</td>\n",
              "      <td>1</td>\n",
              "      <td>0</td>\n",
              "      <td>0</td>\n",
              "      <td>0</td>\n",
              "      <td>0</td>\n",
              "      <td>0</td>\n",
              "      <td>1</td>\n",
              "      <td>0</td>\n",
              "      <td>0</td>\n",
              "      <td>0</td>\n",
              "      <td>0</td>\n",
              "      <td>0</td>\n",
              "      <td>Algeria</td>\n",
              "      <td>DZ</td>\n",
              "      <td>157.0</td>\n",
              "      <td>3.580303</td>\n",
              "      <td>2451000.0</td>\n",
              "      <td>2657000.0</td>\n",
              "      <td>22.575791</td>\n",
              "      <td>81.973549</td>\n",
              "      <td>27.371</td>\n",
              "      <td>162</td>\n",
              "      <td>6.7</td>\n",
              "      <td>4.204164</td>\n",
              "      <td>6.374322</td>\n",
              "      <td>11759.196587</td>\n",
              "      <td>0.1</td>\n",
              "      <td>81.40784</td>\n",
              "      <td>14.2</td>\n",
              "      <td>1.7193</td>\n",
              "      <td>69.0</td>\n",
              "      <td>34.0</td>\n",
              "      <td>1.0</td>\n",
              "      <td>0.0</td>\n",
              "      <td>0.0</td>\n",
              "      <td>2657000.0</td>\n",
              "    </tr>\n",
              "    <tr>\n",
              "      <th>3</th>\n",
              "      <td>Andorra</td>\n",
              "      <td>AD</td>\n",
              "      <td>AND</td>\n",
              "      <td>14-04-2020</td>\n",
              "      <td>Europe</td>\n",
              "      <td>EURO</td>\n",
              "      <td>43</td>\n",
              "      <td>42.5063</td>\n",
              "      <td>1.5218</td>\n",
              "      <td>77265</td>\n",
              "      <td>163.755</td>\n",
              "      <td>NaN</td>\n",
              "      <td>NaN</td>\n",
              "      <td>NaN</td>\n",
              "      <td>NaN</td>\n",
              "      <td>NaN</td>\n",
              "      <td>109.135</td>\n",
              "      <td>7.97</td>\n",
              "      <td>29.0</td>\n",
              "      <td>37.8</td>\n",
              "      <td>NaN</td>\n",
              "      <td>0.00</td>\n",
              "      <td>83.73</td>\n",
              "      <td>0</td>\n",
              "      <td>0</td>\n",
              "      <td>0</td>\n",
              "      <td>0</td>\n",
              "      <td>0</td>\n",
              "      <td>0</td>\n",
              "      <td>0</td>\n",
              "      <td>0</td>\n",
              "      <td>0</td>\n",
              "      <td>0</td>\n",
              "      <td>0</td>\n",
              "      <td>0</td>\n",
              "      <td>0</td>\n",
              "      <td>0</td>\n",
              "      <td>0</td>\n",
              "      <td>0</td>\n",
              "      <td>651</td>\n",
              "      <td>0</td>\n",
              "      <td>0</td>\n",
              "      <td>1</td>\n",
              "      <td>0</td>\n",
              "      <td>0</td>\n",
              "      <td>0</td>\n",
              "      <td>0</td>\n",
              "      <td>0</td>\n",
              "      <td>0</td>\n",
              "      <td>1</td>\n",
              "      <td>0</td>\n",
              "      <td>0</td>\n",
              "      <td>Andorra</td>\n",
              "      <td>AD</td>\n",
              "      <td>NaN</td>\n",
              "      <td>NaN</td>\n",
              "      <td>3003000.0</td>\n",
              "      <td>3042000.0</td>\n",
              "      <td>NaN</td>\n",
              "      <td>NaN</td>\n",
              "      <td>11.938</td>\n",
              "      <td>38</td>\n",
              "      <td>7.7</td>\n",
              "      <td>5.060373</td>\n",
              "      <td>10.320552</td>\n",
              "      <td>NaN</td>\n",
              "      <td>NaN</td>\n",
              "      <td>NaN</td>\n",
              "      <td>NaN</td>\n",
              "      <td>3.3333</td>\n",
              "      <td>3.0</td>\n",
              "      <td>0.0</td>\n",
              "      <td>0.0</td>\n",
              "      <td>0.0</td>\n",
              "      <td>0.0</td>\n",
              "      <td>3042000.0</td>\n",
              "    </tr>\n",
              "    <tr>\n",
              "      <th>4</th>\n",
              "      <td>Angola</td>\n",
              "      <td>AO</td>\n",
              "      <td>AGO</td>\n",
              "      <td>03-05-2020</td>\n",
              "      <td>Africa</td>\n",
              "      <td>AFRO</td>\n",
              "      <td>43</td>\n",
              "      <td>-11.2027</td>\n",
              "      <td>17.8739</td>\n",
              "      <td>32866268</td>\n",
              "      <td>23.890</td>\n",
              "      <td>16.8</td>\n",
              "      <td>2.405</td>\n",
              "      <td>1.362</td>\n",
              "      <td>5819.495</td>\n",
              "      <td>NaN</td>\n",
              "      <td>276.045</td>\n",
              "      <td>3.94</td>\n",
              "      <td>NaN</td>\n",
              "      <td>NaN</td>\n",
              "      <td>26.664</td>\n",
              "      <td>0.00</td>\n",
              "      <td>61.15</td>\n",
              "      <td>1</td>\n",
              "      <td>1</td>\n",
              "      <td>1</td>\n",
              "      <td>1</td>\n",
              "      <td>1</td>\n",
              "      <td>1</td>\n",
              "      <td>1</td>\n",
              "      <td>1</td>\n",
              "      <td>1</td>\n",
              "      <td>1</td>\n",
              "      <td>1</td>\n",
              "      <td>1</td>\n",
              "      <td>0</td>\n",
              "      <td>1</td>\n",
              "      <td>0</td>\n",
              "      <td>0</td>\n",
              "      <td>35</td>\n",
              "      <td>1</td>\n",
              "      <td>0</td>\n",
              "      <td>0</td>\n",
              "      <td>0</td>\n",
              "      <td>0</td>\n",
              "      <td>0</td>\n",
              "      <td>1</td>\n",
              "      <td>0</td>\n",
              "      <td>0</td>\n",
              "      <td>0</td>\n",
              "      <td>0</td>\n",
              "      <td>0</td>\n",
              "      <td>Angola</td>\n",
              "      <td>AO</td>\n",
              "      <td>176.0</td>\n",
              "      <td>5.355035</td>\n",
              "      <td>261000.0</td>\n",
              "      <td>218000.0</td>\n",
              "      <td>21.510933</td>\n",
              "      <td>991.305683</td>\n",
              "      <td>34.486</td>\n",
              "      <td>105</td>\n",
              "      <td>4.5</td>\n",
              "      <td>1.291869</td>\n",
              "      <td>2.791500</td>\n",
              "      <td>7092.990319</td>\n",
              "      <td>2.0</td>\n",
              "      <td>66.03011</td>\n",
              "      <td>16.5</td>\n",
              "      <td>0.2146</td>\n",
              "      <td>355.0</td>\n",
              "      <td>8.0</td>\n",
              "      <td>2.0</td>\n",
              "      <td>1.0</td>\n",
              "      <td>0.0</td>\n",
              "      <td>218000.0</td>\n",
              "    </tr>\n",
              "  </tbody>\n",
              "</table>\n",
              "</div>"
            ],
            "text/plain": [
              "     country_x country_code_x  iso  ... n_cities_3 n_cities_4    turismo\n",
              "0  Afghanistan             AF  AFG  ...        0.0        0.0        NaN\n",
              "1      Albania             AL  ALB  ...        0.0        0.0  5340000.0\n",
              "2      Algeria             DZ  DZA  ...        0.0        0.0  2657000.0\n",
              "3      Andorra             AD  AND  ...        0.0        0.0  3042000.0\n",
              "4       Angola             AO  AGO  ...        1.0        0.0   218000.0\n",
              "\n",
              "[5 rows x 76 columns]"
            ]
          },
          "metadata": {
            "tags": []
          },
          "execution_count": 17
        }
      ]
    },
    {
      "cell_type": "code",
      "metadata": {
        "id": "xL7tE9nBx572",
        "colab_type": "code",
        "colab": {
          "base_uri": "https://localhost:8080/",
          "height": 1000
        },
        "outputId": "4a549e3b-06c5-4ecc-dd62-b9bd633c4f13"
      },
      "source": [
        "cols_with_missings = []\n",
        "for col in base_completa.columns:\n",
        "    if ~(base_completa.dtypes[col]==np.object):\n",
        "        missings = np.sum(pd.isna(base_completa[col]))\n",
        "        print(col, ':', missings)\n",
        "        if missings:\n",
        "            cols_with_missings += [col]"
      ],
      "execution_count": 18,
      "outputs": [
        {
          "output_type": "stream",
          "text": [
            "country_x : 0\n",
            "country_code_x : 1\n",
            "iso : 0\n",
            "date : 0\n",
            "continent : 0\n",
            "who_region : 0\n",
            "day_of_infection : 0\n",
            "latitude : 6\n",
            "longitude : 6\n",
            "population : 0\n",
            "population_density : 7\n",
            "median_age : 20\n",
            "aged_65_older : 21\n",
            "aged_70_older : 21\n",
            "gdp_per_capita : 22\n",
            "extreme_poverty : 82\n",
            "cvd_death_rate : 19\n",
            "diabetes_prevalence : 5\n",
            "female_smokers : 63\n",
            "male_smokers : 63\n",
            "handwashing_facilities : 111\n",
            "hospital_beds_per_thousand : 5\n",
            "life_expectancy : 2\n",
            "border_closure : 0\n",
            "wear_protective_gear_in_public_requirement : 0\n",
            "businesses_and_public_services_closure : 0\n",
            "curfews : 0\n",
            "economic_measures : 0\n",
            "suspension_international_flights : 0\n",
            "imports_exports_limit : 0\n",
            "gatherings_limit : 0\n",
            "partial_lockdown : 0\n",
            "schools_closure : 0\n",
            "established_emergency : 0\n",
            "quarantine_isolation_policies : 0\n",
            "full_lockdown : 0\n",
            "mass_testing : 0\n",
            "checkpoints_within_the_country : 0\n",
            "military_deployment : 0\n",
            "cumulative_cases : 0\n",
            "Africa : 0\n",
            "Asia : 0\n",
            "Europe : 0\n",
            "North America : 0\n",
            "Oceania : 0\n",
            "South America : 0\n",
            "AFRO : 0\n",
            "AMRO : 0\n",
            "EMRO : 0\n",
            "EURO : 0\n",
            "SEARO : 0\n",
            "WPRO : 0\n",
            "country_y : 0\n",
            "country_code_y : 1\n",
            "n_airports : 9\n",
            "airports_per_pop : 9\n",
            "tourism_2017 : 28\n",
            "tourism_2018 : 42\n",
            "temperatura : 35\n",
            "precip : 35\n",
            "PERC_POBLACION_RURAL : 5\n",
            "prison_pop : 24\n",
            "diabetes : 9\n",
            "expend__health_public : 25\n",
            "expend_health_tot : 26\n",
            "gdp_per_capita_ppp : 20\n",
            "HIV : 62\n",
            "lit_rate : 56\n",
            "non_transm_mortality : 28\n",
            "num_physicians : 24\n",
            "tuberculosis : 10\n",
            "n_cities_1 : 0\n",
            "n_cities_2 : 0\n",
            "n_cities_3 : 0\n",
            "n_cities_4 : 0\n",
            "turismo : 28\n"
          ],
          "name": "stdout"
        }
      ]
    },
    {
      "cell_type": "code",
      "metadata": {
        "id": "m4iQbe5ezWZM",
        "colab_type": "code",
        "colab": {}
      },
      "source": [
        "variables_to_log=['population','gdp_per_capita','n_airports','turismo']\n",
        "for variable in variables_to_log:\n",
        "  new_var='log_'+variable\n",
        "  base_completa[new_var]=np.log1p(base_completa[variable])"
      ],
      "execution_count": 19,
      "outputs": []
    },
    {
      "cell_type": "code",
      "metadata": {
        "id": "hmA3xXZC1VaQ",
        "colab_type": "code",
        "colab": {
          "base_uri": "https://localhost:8080/",
          "height": 412
        },
        "outputId": "d0fe7e07-57eb-45cb-c71e-32f64318c5b1"
      },
      "source": [
        "\n",
        "base_completa['prison_pop']=pd.to_numeric(base_completa['prison_pop'],errors='coerce')\n",
        "base_completa['turist_sobre_pop']=base_completa['turismo']/base_completa['population']\n",
        "base_completa['inv_pop_density']=1/base_completa['population_density']\n",
        "base_completa['inv_ext_poverty']=1/base_completa['extreme_poverty']\n",
        "base_completa['tiempo'] = base_completa['date'].apply(pd.to_datetime) - datetime(2020, 1, 11) #10/2/2020 es el dia 30 de China\n",
        "base_completa['tiempo'] = base_completa['tiempo'] / np.timedelta64(1, 'D')\n",
        "base_completa['dummy_lturism']=base_completa['log_turismo']>17.58\n",
        "base_completa['dummy_lturism']=base_completa['dummy_lturism'].astype(int)\n",
        "base_completa['interaccion_negocios_turismo']=base_completa['dummy_lturism']*base_completa['businesses_and_public_services_closure']\n",
        "base_completa.head()"
      ],
      "execution_count": 20,
      "outputs": [
        {
          "output_type": "execute_result",
          "data": {
            "text/html": [
              "<div>\n",
              "<style scoped>\n",
              "    .dataframe tbody tr th:only-of-type {\n",
              "        vertical-align: middle;\n",
              "    }\n",
              "\n",
              "    .dataframe tbody tr th {\n",
              "        vertical-align: top;\n",
              "    }\n",
              "\n",
              "    .dataframe thead th {\n",
              "        text-align: right;\n",
              "    }\n",
              "</style>\n",
              "<table border=\"1\" class=\"dataframe\">\n",
              "  <thead>\n",
              "    <tr style=\"text-align: right;\">\n",
              "      <th></th>\n",
              "      <th>country_x</th>\n",
              "      <th>country_code_x</th>\n",
              "      <th>iso</th>\n",
              "      <th>date</th>\n",
              "      <th>continent</th>\n",
              "      <th>who_region</th>\n",
              "      <th>day_of_infection</th>\n",
              "      <th>latitude</th>\n",
              "      <th>longitude</th>\n",
              "      <th>population</th>\n",
              "      <th>population_density</th>\n",
              "      <th>median_age</th>\n",
              "      <th>aged_65_older</th>\n",
              "      <th>aged_70_older</th>\n",
              "      <th>gdp_per_capita</th>\n",
              "      <th>extreme_poverty</th>\n",
              "      <th>cvd_death_rate</th>\n",
              "      <th>diabetes_prevalence</th>\n",
              "      <th>female_smokers</th>\n",
              "      <th>male_smokers</th>\n",
              "      <th>handwashing_facilities</th>\n",
              "      <th>hospital_beds_per_thousand</th>\n",
              "      <th>life_expectancy</th>\n",
              "      <th>border_closure</th>\n",
              "      <th>wear_protective_gear_in_public_requirement</th>\n",
              "      <th>businesses_and_public_services_closure</th>\n",
              "      <th>curfews</th>\n",
              "      <th>economic_measures</th>\n",
              "      <th>suspension_international_flights</th>\n",
              "      <th>imports_exports_limit</th>\n",
              "      <th>gatherings_limit</th>\n",
              "      <th>partial_lockdown</th>\n",
              "      <th>schools_closure</th>\n",
              "      <th>established_emergency</th>\n",
              "      <th>quarantine_isolation_policies</th>\n",
              "      <th>full_lockdown</th>\n",
              "      <th>mass_testing</th>\n",
              "      <th>checkpoints_within_the_country</th>\n",
              "      <th>military_deployment</th>\n",
              "      <th>cumulative_cases</th>\n",
              "      <th>...</th>\n",
              "      <th>AFRO</th>\n",
              "      <th>AMRO</th>\n",
              "      <th>EMRO</th>\n",
              "      <th>EURO</th>\n",
              "      <th>SEARO</th>\n",
              "      <th>WPRO</th>\n",
              "      <th>country_y</th>\n",
              "      <th>country_code_y</th>\n",
              "      <th>n_airports</th>\n",
              "      <th>airports_per_pop</th>\n",
              "      <th>tourism_2017</th>\n",
              "      <th>tourism_2018</th>\n",
              "      <th>temperatura</th>\n",
              "      <th>precip</th>\n",
              "      <th>PERC_POBLACION_RURAL</th>\n",
              "      <th>prison_pop</th>\n",
              "      <th>diabetes</th>\n",
              "      <th>expend__health_public</th>\n",
              "      <th>expend_health_tot</th>\n",
              "      <th>gdp_per_capita_ppp</th>\n",
              "      <th>HIV</th>\n",
              "      <th>lit_rate</th>\n",
              "      <th>non_transm_mortality</th>\n",
              "      <th>num_physicians</th>\n",
              "      <th>tuberculosis</th>\n",
              "      <th>n_cities_1</th>\n",
              "      <th>n_cities_2</th>\n",
              "      <th>n_cities_3</th>\n",
              "      <th>n_cities_4</th>\n",
              "      <th>turismo</th>\n",
              "      <th>log_population</th>\n",
              "      <th>log_gdp_per_capita</th>\n",
              "      <th>log_n_airports</th>\n",
              "      <th>log_turismo</th>\n",
              "      <th>turist_sobre_pop</th>\n",
              "      <th>inv_pop_density</th>\n",
              "      <th>inv_ext_poverty</th>\n",
              "      <th>tiempo</th>\n",
              "      <th>dummy_lturism</th>\n",
              "      <th>interaccion_negocios_turismo</th>\n",
              "    </tr>\n",
              "  </thead>\n",
              "  <tbody>\n",
              "    <tr>\n",
              "      <th>0</th>\n",
              "      <td>Afghanistan</td>\n",
              "      <td>AF</td>\n",
              "      <td>AFG</td>\n",
              "      <td>12-04-2020</td>\n",
              "      <td>Asia</td>\n",
              "      <td>EMRO</td>\n",
              "      <td>48</td>\n",
              "      <td>33.0000</td>\n",
              "      <td>65.0000</td>\n",
              "      <td>38928341</td>\n",
              "      <td>54.422</td>\n",
              "      <td>18.6</td>\n",
              "      <td>2.581</td>\n",
              "      <td>1.337</td>\n",
              "      <td>1803.987</td>\n",
              "      <td>NaN</td>\n",
              "      <td>597.029</td>\n",
              "      <td>9.59</td>\n",
              "      <td>NaN</td>\n",
              "      <td>NaN</td>\n",
              "      <td>37.746</td>\n",
              "      <td>0.50</td>\n",
              "      <td>64.83</td>\n",
              "      <td>1</td>\n",
              "      <td>0</td>\n",
              "      <td>0</td>\n",
              "      <td>0</td>\n",
              "      <td>0</td>\n",
              "      <td>1</td>\n",
              "      <td>1</td>\n",
              "      <td>1</td>\n",
              "      <td>1</td>\n",
              "      <td>1</td>\n",
              "      <td>1</td>\n",
              "      <td>1</td>\n",
              "      <td>0</td>\n",
              "      <td>0</td>\n",
              "      <td>0</td>\n",
              "      <td>0</td>\n",
              "      <td>555</td>\n",
              "      <td>...</td>\n",
              "      <td>0</td>\n",
              "      <td>0</td>\n",
              "      <td>1</td>\n",
              "      <td>0</td>\n",
              "      <td>0</td>\n",
              "      <td>0</td>\n",
              "      <td>Afghanistan</td>\n",
              "      <td>AF</td>\n",
              "      <td>52.0</td>\n",
              "      <td>1.335788</td>\n",
              "      <td>NaN</td>\n",
              "      <td>NaN</td>\n",
              "      <td>12.921455</td>\n",
              "      <td>311.321856</td>\n",
              "      <td>74.505</td>\n",
              "      <td>76.0</td>\n",
              "      <td>9.2</td>\n",
              "      <td>0.600144</td>\n",
              "      <td>11.777194</td>\n",
              "      <td>2225.761336</td>\n",
              "      <td>0.1</td>\n",
              "      <td>43.01972</td>\n",
              "      <td>29.8</td>\n",
              "      <td>0.2782</td>\n",
              "      <td>189.0</td>\n",
              "      <td>12.0</td>\n",
              "      <td>1.0</td>\n",
              "      <td>0.0</td>\n",
              "      <td>0.0</td>\n",
              "      <td>NaN</td>\n",
              "      <td>17.477233</td>\n",
              "      <td>7.498309</td>\n",
              "      <td>3.970292</td>\n",
              "      <td>NaN</td>\n",
              "      <td>NaN</td>\n",
              "      <td>0.018375</td>\n",
              "      <td>NaN</td>\n",
              "      <td>328.0</td>\n",
              "      <td>0</td>\n",
              "      <td>0</td>\n",
              "    </tr>\n",
              "    <tr>\n",
              "      <th>1</th>\n",
              "      <td>Albania</td>\n",
              "      <td>AL</td>\n",
              "      <td>ALB</td>\n",
              "      <td>09-04-2020</td>\n",
              "      <td>Europe</td>\n",
              "      <td>EURO</td>\n",
              "      <td>31</td>\n",
              "      <td>41.1533</td>\n",
              "      <td>20.1683</td>\n",
              "      <td>2877800</td>\n",
              "      <td>104.871</td>\n",
              "      <td>38.0</td>\n",
              "      <td>13.188</td>\n",
              "      <td>8.643</td>\n",
              "      <td>11803.431</td>\n",
              "      <td>1.1</td>\n",
              "      <td>304.195</td>\n",
              "      <td>10.08</td>\n",
              "      <td>7.1</td>\n",
              "      <td>51.2</td>\n",
              "      <td>NaN</td>\n",
              "      <td>2.89</td>\n",
              "      <td>78.57</td>\n",
              "      <td>1</td>\n",
              "      <td>0</td>\n",
              "      <td>1</td>\n",
              "      <td>1</td>\n",
              "      <td>1</td>\n",
              "      <td>1</td>\n",
              "      <td>1</td>\n",
              "      <td>1</td>\n",
              "      <td>1</td>\n",
              "      <td>1</td>\n",
              "      <td>1</td>\n",
              "      <td>1</td>\n",
              "      <td>0</td>\n",
              "      <td>0</td>\n",
              "      <td>1</td>\n",
              "      <td>1</td>\n",
              "      <td>409</td>\n",
              "      <td>...</td>\n",
              "      <td>0</td>\n",
              "      <td>0</td>\n",
              "      <td>0</td>\n",
              "      <td>1</td>\n",
              "      <td>0</td>\n",
              "      <td>0</td>\n",
              "      <td>Albania</td>\n",
              "      <td>AL</td>\n",
              "      <td>4.0</td>\n",
              "      <td>1.389951</td>\n",
              "      <td>4643000.0</td>\n",
              "      <td>5340000.0</td>\n",
              "      <td>11.269800</td>\n",
              "      <td>1053.235184</td>\n",
              "      <td>39.681</td>\n",
              "      <td>158.0</td>\n",
              "      <td>9.0</td>\n",
              "      <td>4.277554</td>\n",
              "      <td>NaN</td>\n",
              "      <td>13835.548306</td>\n",
              "      <td>NaN</td>\n",
              "      <td>98.14115</td>\n",
              "      <td>17.0</td>\n",
              "      <td>1.2164</td>\n",
              "      <td>18.0</td>\n",
              "      <td>4.0</td>\n",
              "      <td>0.0</td>\n",
              "      <td>0.0</td>\n",
              "      <td>0.0</td>\n",
              "      <td>5340000.0</td>\n",
              "      <td>14.872537</td>\n",
              "      <td>9.376230</td>\n",
              "      <td>1.609438</td>\n",
              "      <td>15.490736</td>\n",
              "      <td>1.855584</td>\n",
              "      <td>0.009536</td>\n",
              "      <td>0.909091</td>\n",
              "      <td>237.0</td>\n",
              "      <td>0</td>\n",
              "      <td>0</td>\n",
              "    </tr>\n",
              "    <tr>\n",
              "      <th>2</th>\n",
              "      <td>Algeria</td>\n",
              "      <td>DZ</td>\n",
              "      <td>DZA</td>\n",
              "      <td>02-04-2020</td>\n",
              "      <td>Africa</td>\n",
              "      <td>AFRO</td>\n",
              "      <td>37</td>\n",
              "      <td>28.0339</td>\n",
              "      <td>1.6596</td>\n",
              "      <td>43851043</td>\n",
              "      <td>17.348</td>\n",
              "      <td>29.1</td>\n",
              "      <td>6.211</td>\n",
              "      <td>3.857</td>\n",
              "      <td>13913.839</td>\n",
              "      <td>0.5</td>\n",
              "      <td>278.364</td>\n",
              "      <td>6.73</td>\n",
              "      <td>0.7</td>\n",
              "      <td>30.4</td>\n",
              "      <td>83.741</td>\n",
              "      <td>1.90</td>\n",
              "      <td>76.88</td>\n",
              "      <td>1</td>\n",
              "      <td>0</td>\n",
              "      <td>1</td>\n",
              "      <td>1</td>\n",
              "      <td>0</td>\n",
              "      <td>1</td>\n",
              "      <td>0</td>\n",
              "      <td>1</td>\n",
              "      <td>1</td>\n",
              "      <td>1</td>\n",
              "      <td>1</td>\n",
              "      <td>1</td>\n",
              "      <td>1</td>\n",
              "      <td>0</td>\n",
              "      <td>1</td>\n",
              "      <td>1</td>\n",
              "      <td>847</td>\n",
              "      <td>...</td>\n",
              "      <td>1</td>\n",
              "      <td>0</td>\n",
              "      <td>0</td>\n",
              "      <td>0</td>\n",
              "      <td>0</td>\n",
              "      <td>0</td>\n",
              "      <td>Algeria</td>\n",
              "      <td>DZ</td>\n",
              "      <td>157.0</td>\n",
              "      <td>3.580303</td>\n",
              "      <td>2451000.0</td>\n",
              "      <td>2657000.0</td>\n",
              "      <td>22.575791</td>\n",
              "      <td>81.973549</td>\n",
              "      <td>27.371</td>\n",
              "      <td>162.0</td>\n",
              "      <td>6.7</td>\n",
              "      <td>4.204164</td>\n",
              "      <td>6.374322</td>\n",
              "      <td>11759.196587</td>\n",
              "      <td>0.1</td>\n",
              "      <td>81.40784</td>\n",
              "      <td>14.2</td>\n",
              "      <td>1.7193</td>\n",
              "      <td>69.0</td>\n",
              "      <td>34.0</td>\n",
              "      <td>1.0</td>\n",
              "      <td>0.0</td>\n",
              "      <td>0.0</td>\n",
              "      <td>2657000.0</td>\n",
              "      <td>17.596309</td>\n",
              "      <td>9.540711</td>\n",
              "      <td>5.062595</td>\n",
              "      <td>14.792709</td>\n",
              "      <td>0.060591</td>\n",
              "      <td>0.057644</td>\n",
              "      <td>2.000000</td>\n",
              "      <td>24.0</td>\n",
              "      <td>0</td>\n",
              "      <td>0</td>\n",
              "    </tr>\n",
              "    <tr>\n",
              "      <th>3</th>\n",
              "      <td>Andorra</td>\n",
              "      <td>AD</td>\n",
              "      <td>AND</td>\n",
              "      <td>14-04-2020</td>\n",
              "      <td>Europe</td>\n",
              "      <td>EURO</td>\n",
              "      <td>43</td>\n",
              "      <td>42.5063</td>\n",
              "      <td>1.5218</td>\n",
              "      <td>77265</td>\n",
              "      <td>163.755</td>\n",
              "      <td>NaN</td>\n",
              "      <td>NaN</td>\n",
              "      <td>NaN</td>\n",
              "      <td>NaN</td>\n",
              "      <td>NaN</td>\n",
              "      <td>109.135</td>\n",
              "      <td>7.97</td>\n",
              "      <td>29.0</td>\n",
              "      <td>37.8</td>\n",
              "      <td>NaN</td>\n",
              "      <td>0.00</td>\n",
              "      <td>83.73</td>\n",
              "      <td>0</td>\n",
              "      <td>0</td>\n",
              "      <td>0</td>\n",
              "      <td>0</td>\n",
              "      <td>0</td>\n",
              "      <td>0</td>\n",
              "      <td>0</td>\n",
              "      <td>0</td>\n",
              "      <td>0</td>\n",
              "      <td>0</td>\n",
              "      <td>0</td>\n",
              "      <td>0</td>\n",
              "      <td>0</td>\n",
              "      <td>0</td>\n",
              "      <td>0</td>\n",
              "      <td>0</td>\n",
              "      <td>651</td>\n",
              "      <td>...</td>\n",
              "      <td>0</td>\n",
              "      <td>0</td>\n",
              "      <td>0</td>\n",
              "      <td>1</td>\n",
              "      <td>0</td>\n",
              "      <td>0</td>\n",
              "      <td>Andorra</td>\n",
              "      <td>AD</td>\n",
              "      <td>NaN</td>\n",
              "      <td>NaN</td>\n",
              "      <td>3003000.0</td>\n",
              "      <td>3042000.0</td>\n",
              "      <td>NaN</td>\n",
              "      <td>NaN</td>\n",
              "      <td>11.938</td>\n",
              "      <td>38.0</td>\n",
              "      <td>7.7</td>\n",
              "      <td>5.060373</td>\n",
              "      <td>10.320552</td>\n",
              "      <td>NaN</td>\n",
              "      <td>NaN</td>\n",
              "      <td>NaN</td>\n",
              "      <td>NaN</td>\n",
              "      <td>3.3333</td>\n",
              "      <td>3.0</td>\n",
              "      <td>0.0</td>\n",
              "      <td>0.0</td>\n",
              "      <td>0.0</td>\n",
              "      <td>0.0</td>\n",
              "      <td>3042000.0</td>\n",
              "      <td>11.255009</td>\n",
              "      <td>NaN</td>\n",
              "      <td>NaN</td>\n",
              "      <td>14.928026</td>\n",
              "      <td>39.370996</td>\n",
              "      <td>0.006107</td>\n",
              "      <td>NaN</td>\n",
              "      <td>94.0</td>\n",
              "      <td>0</td>\n",
              "      <td>0</td>\n",
              "    </tr>\n",
              "    <tr>\n",
              "      <th>4</th>\n",
              "      <td>Angola</td>\n",
              "      <td>AO</td>\n",
              "      <td>AGO</td>\n",
              "      <td>03-05-2020</td>\n",
              "      <td>Africa</td>\n",
              "      <td>AFRO</td>\n",
              "      <td>43</td>\n",
              "      <td>-11.2027</td>\n",
              "      <td>17.8739</td>\n",
              "      <td>32866268</td>\n",
              "      <td>23.890</td>\n",
              "      <td>16.8</td>\n",
              "      <td>2.405</td>\n",
              "      <td>1.362</td>\n",
              "      <td>5819.495</td>\n",
              "      <td>NaN</td>\n",
              "      <td>276.045</td>\n",
              "      <td>3.94</td>\n",
              "      <td>NaN</td>\n",
              "      <td>NaN</td>\n",
              "      <td>26.664</td>\n",
              "      <td>0.00</td>\n",
              "      <td>61.15</td>\n",
              "      <td>1</td>\n",
              "      <td>1</td>\n",
              "      <td>1</td>\n",
              "      <td>1</td>\n",
              "      <td>1</td>\n",
              "      <td>1</td>\n",
              "      <td>1</td>\n",
              "      <td>1</td>\n",
              "      <td>1</td>\n",
              "      <td>1</td>\n",
              "      <td>1</td>\n",
              "      <td>1</td>\n",
              "      <td>0</td>\n",
              "      <td>1</td>\n",
              "      <td>0</td>\n",
              "      <td>0</td>\n",
              "      <td>35</td>\n",
              "      <td>...</td>\n",
              "      <td>1</td>\n",
              "      <td>0</td>\n",
              "      <td>0</td>\n",
              "      <td>0</td>\n",
              "      <td>0</td>\n",
              "      <td>0</td>\n",
              "      <td>Angola</td>\n",
              "      <td>AO</td>\n",
              "      <td>176.0</td>\n",
              "      <td>5.355035</td>\n",
              "      <td>261000.0</td>\n",
              "      <td>218000.0</td>\n",
              "      <td>21.510933</td>\n",
              "      <td>991.305683</td>\n",
              "      <td>34.486</td>\n",
              "      <td>105.0</td>\n",
              "      <td>4.5</td>\n",
              "      <td>1.291869</td>\n",
              "      <td>2.791500</td>\n",
              "      <td>7092.990319</td>\n",
              "      <td>2.0</td>\n",
              "      <td>66.03011</td>\n",
              "      <td>16.5</td>\n",
              "      <td>0.2146</td>\n",
              "      <td>355.0</td>\n",
              "      <td>8.0</td>\n",
              "      <td>2.0</td>\n",
              "      <td>1.0</td>\n",
              "      <td>0.0</td>\n",
              "      <td>218000.0</td>\n",
              "      <td>17.307957</td>\n",
              "      <td>8.669141</td>\n",
              "      <td>5.176150</td>\n",
              "      <td>12.292255</td>\n",
              "      <td>0.006633</td>\n",
              "      <td>0.041859</td>\n",
              "      <td>NaN</td>\n",
              "      <td>54.0</td>\n",
              "      <td>0</td>\n",
              "      <td>0</td>\n",
              "    </tr>\n",
              "  </tbody>\n",
              "</table>\n",
              "<p>5 rows × 86 columns</p>\n",
              "</div>"
            ],
            "text/plain": [
              "     country_x country_code_x  ... dummy_lturism interaccion_negocios_turismo\n",
              "0  Afghanistan             AF  ...             0                            0\n",
              "1      Albania             AL  ...             0                            0\n",
              "2      Algeria             DZ  ...             0                            0\n",
              "3      Andorra             AD  ...             0                            0\n",
              "4       Angola             AO  ...             0                            0\n",
              "\n",
              "[5 rows x 86 columns]"
            ]
          },
          "metadata": {
            "tags": []
          },
          "execution_count": 20
        }
      ]
    },
    {
      "cell_type": "code",
      "metadata": {
        "id": "nz038zCIlO_y",
        "colab_type": "code",
        "colab": {}
      },
      "source": [
        "X=base_completa.drop(['date','cumulative_cases','country_x','gdp_per_capita_ppp','expend_health_tot','country_code_x','country_y','country_code_y','iso','tourism_2018','tourism_2017','continent','who_region','population','gdp_per_capita','n_airports','turismo','aged_70_older','dummy_lturism'],axis=1)\n",
        "Y=base['cumulative_cases']"
      ],
      "execution_count": 21,
      "outputs": []
    },
    {
      "cell_type": "markdown",
      "metadata": {
        "id": "k2MmyqODWxuU",
        "colab_type": "text"
      },
      "source": [
        "## Probando estrategias de Imputacion de Missing Values\n"
      ]
    },
    {
      "cell_type": "markdown",
      "metadata": {
        "id": "TFiCPNmgg_jS",
        "colab_type": "text"
      },
      "source": [
        "Para completely data-driven se puede correr el script de abajo para ver cual metodo de imputacion lleva al menor error en CV, aprovecho y en el mismo loop evaluo varios modelos tambien, la idea es ver de un mismo palo cuales serian los modelos y los imputers mas prometedores"
      ]
    },
    {
      "cell_type": "code",
      "metadata": {
        "id": "YjjR2tlTZ5nl",
        "colab_type": "code",
        "colab": {
          "base_uri": "https://localhost:8080/",
          "height": 1000
        },
        "outputId": "483b381d-696d-4e5e-fc94-3cb11a8f68f4"
      },
      "source": [
        "models=[\n",
        "      SVR(),\n",
        "      RandomForestRegressor(random_state=0),\n",
        "      LGBMRegressor(random_state=0),\n",
        "      XGBRegressor(random_state=0)\n",
        "\n",
        "]\n",
        "\n",
        "missing_imputers = [\n",
        "    BayesianRidge(),\n",
        "    ExtraTreesRegressor(n_estimators=10,random_state=0)\n",
        "]\n",
        "scores = []\n",
        "\n",
        "for i,impute_estimator in enumerate(missing_imputers):\n",
        "  for j,model in enumerate(models):\n",
        "    imputer=impute_estimator.__class__.__name__\n",
        "    mod=model.__class__.__name__\n",
        "    estimator = make_pipeline(\n",
        "        IterativeImputer(random_state=0, estimator=impute_estimator),\n",
        "        TransformedTargetRegressor(regressor=model, func=np.log1p, inverse_func=np.expm1)\n",
        "    )\n",
        "    met1=cross_val_score(\n",
        "        estimator, X, Y, scoring='neg_mean_absolute_error',\n",
        "        cv=strat_k_fold\n",
        "    )\n",
        "\n",
        "    met2=cross_val_score(\n",
        "        estimator, X, Y, scoring='neg_mean_squared_error',\n",
        "        cv=strat_k_fold\n",
        "    )\n",
        "\n",
        "    scores.append((imputer, mod, np.mean(met1),np.mean(met2)))\n",
        " \n",
        "scores=pd.DataFrame(scores, columns=('Imputer', 'Model', 'MAE','MSE'))   \n",
        "    \n",
        "  \n"
      ],
      "execution_count": 22,
      "outputs": [
        {
          "output_type": "stream",
          "text": [
            "/usr/local/lib/python3.6/dist-packages/sklearn/impute/_iterative.py:638: ConvergenceWarning: [IterativeImputer] Early stopping criterion not reached.\n",
            "  \" reached.\", ConvergenceWarning)\n",
            "/usr/local/lib/python3.6/dist-packages/sklearn/impute/_iterative.py:638: ConvergenceWarning: [IterativeImputer] Early stopping criterion not reached.\n",
            "  \" reached.\", ConvergenceWarning)\n",
            "/usr/local/lib/python3.6/dist-packages/sklearn/impute/_iterative.py:638: ConvergenceWarning: [IterativeImputer] Early stopping criterion not reached.\n",
            "  \" reached.\", ConvergenceWarning)\n",
            "/usr/local/lib/python3.6/dist-packages/sklearn/impute/_iterative.py:638: ConvergenceWarning: [IterativeImputer] Early stopping criterion not reached.\n",
            "  \" reached.\", ConvergenceWarning)\n",
            "/usr/local/lib/python3.6/dist-packages/sklearn/impute/_iterative.py:638: ConvergenceWarning: [IterativeImputer] Early stopping criterion not reached.\n",
            "  \" reached.\", ConvergenceWarning)\n",
            "/usr/local/lib/python3.6/dist-packages/sklearn/impute/_iterative.py:638: ConvergenceWarning: [IterativeImputer] Early stopping criterion not reached.\n",
            "  \" reached.\", ConvergenceWarning)\n",
            "/usr/local/lib/python3.6/dist-packages/sklearn/impute/_iterative.py:638: ConvergenceWarning: [IterativeImputer] Early stopping criterion not reached.\n",
            "  \" reached.\", ConvergenceWarning)\n",
            "/usr/local/lib/python3.6/dist-packages/sklearn/impute/_iterative.py:638: ConvergenceWarning: [IterativeImputer] Early stopping criterion not reached.\n",
            "  \" reached.\", ConvergenceWarning)\n",
            "/usr/local/lib/python3.6/dist-packages/sklearn/impute/_iterative.py:638: ConvergenceWarning: [IterativeImputer] Early stopping criterion not reached.\n",
            "  \" reached.\", ConvergenceWarning)\n",
            "/usr/local/lib/python3.6/dist-packages/sklearn/impute/_iterative.py:638: ConvergenceWarning: [IterativeImputer] Early stopping criterion not reached.\n",
            "  \" reached.\", ConvergenceWarning)\n",
            "/usr/local/lib/python3.6/dist-packages/sklearn/impute/_iterative.py:638: ConvergenceWarning: [IterativeImputer] Early stopping criterion not reached.\n",
            "  \" reached.\", ConvergenceWarning)\n",
            "/usr/local/lib/python3.6/dist-packages/sklearn/impute/_iterative.py:638: ConvergenceWarning: [IterativeImputer] Early stopping criterion not reached.\n",
            "  \" reached.\", ConvergenceWarning)\n",
            "/usr/local/lib/python3.6/dist-packages/sklearn/impute/_iterative.py:638: ConvergenceWarning: [IterativeImputer] Early stopping criterion not reached.\n",
            "  \" reached.\", ConvergenceWarning)\n",
            "/usr/local/lib/python3.6/dist-packages/sklearn/impute/_iterative.py:638: ConvergenceWarning: [IterativeImputer] Early stopping criterion not reached.\n",
            "  \" reached.\", ConvergenceWarning)\n",
            "/usr/local/lib/python3.6/dist-packages/sklearn/impute/_iterative.py:638: ConvergenceWarning: [IterativeImputer] Early stopping criterion not reached.\n",
            "  \" reached.\", ConvergenceWarning)\n",
            "/usr/local/lib/python3.6/dist-packages/sklearn/impute/_iterative.py:638: ConvergenceWarning: [IterativeImputer] Early stopping criterion not reached.\n",
            "  \" reached.\", ConvergenceWarning)\n",
            "/usr/local/lib/python3.6/dist-packages/sklearn/impute/_iterative.py:638: ConvergenceWarning: [IterativeImputer] Early stopping criterion not reached.\n",
            "  \" reached.\", ConvergenceWarning)\n",
            "/usr/local/lib/python3.6/dist-packages/sklearn/impute/_iterative.py:638: ConvergenceWarning: [IterativeImputer] Early stopping criterion not reached.\n",
            "  \" reached.\", ConvergenceWarning)\n",
            "/usr/local/lib/python3.6/dist-packages/sklearn/impute/_iterative.py:638: ConvergenceWarning: [IterativeImputer] Early stopping criterion not reached.\n",
            "  \" reached.\", ConvergenceWarning)\n"
          ],
          "name": "stderr"
        },
        {
          "output_type": "stream",
          "text": [
            "[18:39:01] WARNING: /workspace/src/objective/regression_obj.cu:152: reg:linear is now deprecated in favor of reg:squarederror.\n"
          ],
          "name": "stdout"
        },
        {
          "output_type": "stream",
          "text": [
            "/usr/local/lib/python3.6/dist-packages/sklearn/impute/_iterative.py:638: ConvergenceWarning: [IterativeImputer] Early stopping criterion not reached.\n",
            "  \" reached.\", ConvergenceWarning)\n"
          ],
          "name": "stderr"
        },
        {
          "output_type": "stream",
          "text": [
            "[18:39:05] WARNING: /workspace/src/objective/regression_obj.cu:152: reg:linear is now deprecated in favor of reg:squarederror.\n"
          ],
          "name": "stdout"
        },
        {
          "output_type": "stream",
          "text": [
            "/usr/local/lib/python3.6/dist-packages/sklearn/impute/_iterative.py:638: ConvergenceWarning: [IterativeImputer] Early stopping criterion not reached.\n",
            "  \" reached.\", ConvergenceWarning)\n"
          ],
          "name": "stderr"
        },
        {
          "output_type": "stream",
          "text": [
            "[18:39:09] WARNING: /workspace/src/objective/regression_obj.cu:152: reg:linear is now deprecated in favor of reg:squarederror.\n"
          ],
          "name": "stdout"
        },
        {
          "output_type": "stream",
          "text": [
            "/usr/local/lib/python3.6/dist-packages/sklearn/impute/_iterative.py:638: ConvergenceWarning: [IterativeImputer] Early stopping criterion not reached.\n",
            "  \" reached.\", ConvergenceWarning)\n"
          ],
          "name": "stderr"
        },
        {
          "output_type": "stream",
          "text": [
            "[18:39:13] WARNING: /workspace/src/objective/regression_obj.cu:152: reg:linear is now deprecated in favor of reg:squarederror.\n"
          ],
          "name": "stdout"
        },
        {
          "output_type": "stream",
          "text": [
            "/usr/local/lib/python3.6/dist-packages/sklearn/impute/_iterative.py:638: ConvergenceWarning: [IterativeImputer] Early stopping criterion not reached.\n",
            "  \" reached.\", ConvergenceWarning)\n"
          ],
          "name": "stderr"
        },
        {
          "output_type": "stream",
          "text": [
            "[18:39:17] WARNING: /workspace/src/objective/regression_obj.cu:152: reg:linear is now deprecated in favor of reg:squarederror.\n"
          ],
          "name": "stdout"
        },
        {
          "output_type": "stream",
          "text": [
            "/usr/local/lib/python3.6/dist-packages/sklearn/impute/_iterative.py:638: ConvergenceWarning: [IterativeImputer] Early stopping criterion not reached.\n",
            "  \" reached.\", ConvergenceWarning)\n"
          ],
          "name": "stderr"
        },
        {
          "output_type": "stream",
          "text": [
            "[18:39:21] WARNING: /workspace/src/objective/regression_obj.cu:152: reg:linear is now deprecated in favor of reg:squarederror.\n"
          ],
          "name": "stdout"
        },
        {
          "output_type": "stream",
          "text": [
            "/usr/local/lib/python3.6/dist-packages/sklearn/impute/_iterative.py:638: ConvergenceWarning: [IterativeImputer] Early stopping criterion not reached.\n",
            "  \" reached.\", ConvergenceWarning)\n",
            "/usr/local/lib/python3.6/dist-packages/sklearn/impute/_iterative.py:638: ConvergenceWarning: [IterativeImputer] Early stopping criterion not reached.\n",
            "  \" reached.\", ConvergenceWarning)\n",
            "/usr/local/lib/python3.6/dist-packages/sklearn/impute/_iterative.py:638: ConvergenceWarning: [IterativeImputer] Early stopping criterion not reached.\n",
            "  \" reached.\", ConvergenceWarning)\n",
            "/usr/local/lib/python3.6/dist-packages/sklearn/impute/_iterative.py:638: ConvergenceWarning: [IterativeImputer] Early stopping criterion not reached.\n",
            "  \" reached.\", ConvergenceWarning)\n",
            "/usr/local/lib/python3.6/dist-packages/sklearn/impute/_iterative.py:638: ConvergenceWarning: [IterativeImputer] Early stopping criterion not reached.\n",
            "  \" reached.\", ConvergenceWarning)\n",
            "/usr/local/lib/python3.6/dist-packages/sklearn/impute/_iterative.py:638: ConvergenceWarning: [IterativeImputer] Early stopping criterion not reached.\n",
            "  \" reached.\", ConvergenceWarning)\n",
            "/usr/local/lib/python3.6/dist-packages/sklearn/impute/_iterative.py:638: ConvergenceWarning: [IterativeImputer] Early stopping criterion not reached.\n",
            "  \" reached.\", ConvergenceWarning)\n",
            "/usr/local/lib/python3.6/dist-packages/sklearn/impute/_iterative.py:638: ConvergenceWarning: [IterativeImputer] Early stopping criterion not reached.\n",
            "  \" reached.\", ConvergenceWarning)\n",
            "/usr/local/lib/python3.6/dist-packages/sklearn/impute/_iterative.py:638: ConvergenceWarning: [IterativeImputer] Early stopping criterion not reached.\n",
            "  \" reached.\", ConvergenceWarning)\n",
            "/usr/local/lib/python3.6/dist-packages/sklearn/impute/_iterative.py:638: ConvergenceWarning: [IterativeImputer] Early stopping criterion not reached.\n",
            "  \" reached.\", ConvergenceWarning)\n",
            "/usr/local/lib/python3.6/dist-packages/sklearn/impute/_iterative.py:638: ConvergenceWarning: [IterativeImputer] Early stopping criterion not reached.\n",
            "  \" reached.\", ConvergenceWarning)\n",
            "/usr/local/lib/python3.6/dist-packages/sklearn/impute/_iterative.py:638: ConvergenceWarning: [IterativeImputer] Early stopping criterion not reached.\n",
            "  \" reached.\", ConvergenceWarning)\n",
            "/usr/local/lib/python3.6/dist-packages/sklearn/impute/_iterative.py:638: ConvergenceWarning: [IterativeImputer] Early stopping criterion not reached.\n",
            "  \" reached.\", ConvergenceWarning)\n",
            "/usr/local/lib/python3.6/dist-packages/sklearn/impute/_iterative.py:638: ConvergenceWarning: [IterativeImputer] Early stopping criterion not reached.\n",
            "  \" reached.\", ConvergenceWarning)\n",
            "/usr/local/lib/python3.6/dist-packages/sklearn/impute/_iterative.py:638: ConvergenceWarning: [IterativeImputer] Early stopping criterion not reached.\n",
            "  \" reached.\", ConvergenceWarning)\n",
            "/usr/local/lib/python3.6/dist-packages/sklearn/impute/_iterative.py:638: ConvergenceWarning: [IterativeImputer] Early stopping criterion not reached.\n",
            "  \" reached.\", ConvergenceWarning)\n",
            "/usr/local/lib/python3.6/dist-packages/sklearn/impute/_iterative.py:638: ConvergenceWarning: [IterativeImputer] Early stopping criterion not reached.\n",
            "  \" reached.\", ConvergenceWarning)\n",
            "/usr/local/lib/python3.6/dist-packages/sklearn/impute/_iterative.py:638: ConvergenceWarning: [IterativeImputer] Early stopping criterion not reached.\n",
            "  \" reached.\", ConvergenceWarning)\n",
            "/usr/local/lib/python3.6/dist-packages/sklearn/impute/_iterative.py:638: ConvergenceWarning: [IterativeImputer] Early stopping criterion not reached.\n",
            "  \" reached.\", ConvergenceWarning)\n"
          ],
          "name": "stderr"
        },
        {
          "output_type": "stream",
          "text": [
            "[18:42:50] WARNING: /workspace/src/objective/regression_obj.cu:152: reg:linear is now deprecated in favor of reg:squarederror.\n"
          ],
          "name": "stdout"
        },
        {
          "output_type": "stream",
          "text": [
            "/usr/local/lib/python3.6/dist-packages/sklearn/impute/_iterative.py:638: ConvergenceWarning: [IterativeImputer] Early stopping criterion not reached.\n",
            "  \" reached.\", ConvergenceWarning)\n"
          ],
          "name": "stderr"
        },
        {
          "output_type": "stream",
          "text": [
            "[18:43:01] WARNING: /workspace/src/objective/regression_obj.cu:152: reg:linear is now deprecated in favor of reg:squarederror.\n"
          ],
          "name": "stdout"
        },
        {
          "output_type": "stream",
          "text": [
            "/usr/local/lib/python3.6/dist-packages/sklearn/impute/_iterative.py:638: ConvergenceWarning: [IterativeImputer] Early stopping criterion not reached.\n",
            "  \" reached.\", ConvergenceWarning)\n"
          ],
          "name": "stderr"
        },
        {
          "output_type": "stream",
          "text": [
            "[18:43:12] WARNING: /workspace/src/objective/regression_obj.cu:152: reg:linear is now deprecated in favor of reg:squarederror.\n"
          ],
          "name": "stdout"
        },
        {
          "output_type": "stream",
          "text": [
            "/usr/local/lib/python3.6/dist-packages/sklearn/impute/_iterative.py:638: ConvergenceWarning: [IterativeImputer] Early stopping criterion not reached.\n",
            "  \" reached.\", ConvergenceWarning)\n"
          ],
          "name": "stderr"
        },
        {
          "output_type": "stream",
          "text": [
            "[18:43:23] WARNING: /workspace/src/objective/regression_obj.cu:152: reg:linear is now deprecated in favor of reg:squarederror.\n"
          ],
          "name": "stdout"
        },
        {
          "output_type": "stream",
          "text": [
            "/usr/local/lib/python3.6/dist-packages/sklearn/impute/_iterative.py:638: ConvergenceWarning: [IterativeImputer] Early stopping criterion not reached.\n",
            "  \" reached.\", ConvergenceWarning)\n"
          ],
          "name": "stderr"
        },
        {
          "output_type": "stream",
          "text": [
            "[18:43:34] WARNING: /workspace/src/objective/regression_obj.cu:152: reg:linear is now deprecated in favor of reg:squarederror.\n"
          ],
          "name": "stdout"
        },
        {
          "output_type": "stream",
          "text": [
            "/usr/local/lib/python3.6/dist-packages/sklearn/impute/_iterative.py:638: ConvergenceWarning: [IterativeImputer] Early stopping criterion not reached.\n",
            "  \" reached.\", ConvergenceWarning)\n"
          ],
          "name": "stderr"
        },
        {
          "output_type": "stream",
          "text": [
            "[18:43:45] WARNING: /workspace/src/objective/regression_obj.cu:152: reg:linear is now deprecated in favor of reg:squarederror.\n"
          ],
          "name": "stdout"
        }
      ]
    },
    {
      "cell_type": "markdown",
      "metadata": {
        "id": "1L0X_0ACkZga",
        "colab_type": "text"
      },
      "source": [
        "Al final vemos que la imputacion con el modelo 'ExtraTreesRegressor' da resultados con menor error, por lo que este sera nuestro metodo de imputacion"
      ]
    },
    {
      "cell_type": "code",
      "metadata": {
        "id": "f9zY1P9Mkvmm",
        "colab_type": "code",
        "colab": {
          "base_uri": "https://localhost:8080/",
          "height": 284
        },
        "outputId": "c4adbc8e-4a81-4c3d-ee1b-2adf36913d1a"
      },
      "source": [
        "scores"
      ],
      "execution_count": 23,
      "outputs": [
        {
          "output_type": "execute_result",
          "data": {
            "text/html": [
              "<div>\n",
              "<style scoped>\n",
              "    .dataframe tbody tr th:only-of-type {\n",
              "        vertical-align: middle;\n",
              "    }\n",
              "\n",
              "    .dataframe tbody tr th {\n",
              "        vertical-align: top;\n",
              "    }\n",
              "\n",
              "    .dataframe thead th {\n",
              "        text-align: right;\n",
              "    }\n",
              "</style>\n",
              "<table border=\"1\" class=\"dataframe\">\n",
              "  <thead>\n",
              "    <tr style=\"text-align: right;\">\n",
              "      <th></th>\n",
              "      <th>Imputer</th>\n",
              "      <th>Model</th>\n",
              "      <th>MAE</th>\n",
              "      <th>MSE</th>\n",
              "    </tr>\n",
              "  </thead>\n",
              "  <tbody>\n",
              "    <tr>\n",
              "      <th>0</th>\n",
              "      <td>BayesianRidge</td>\n",
              "      <td>SVR</td>\n",
              "      <td>-2099.114188</td>\n",
              "      <td>-5.812997e+07</td>\n",
              "    </tr>\n",
              "    <tr>\n",
              "      <th>1</th>\n",
              "      <td>BayesianRidge</td>\n",
              "      <td>RandomForestRegressor</td>\n",
              "      <td>-1804.456371</td>\n",
              "      <td>-4.530888e+07</td>\n",
              "    </tr>\n",
              "    <tr>\n",
              "      <th>2</th>\n",
              "      <td>BayesianRidge</td>\n",
              "      <td>LGBMRegressor</td>\n",
              "      <td>-1868.074982</td>\n",
              "      <td>-4.935226e+07</td>\n",
              "    </tr>\n",
              "    <tr>\n",
              "      <th>3</th>\n",
              "      <td>BayesianRidge</td>\n",
              "      <td>XGBRegressor</td>\n",
              "      <td>-1778.330187</td>\n",
              "      <td>-4.131581e+07</td>\n",
              "    </tr>\n",
              "    <tr>\n",
              "      <th>4</th>\n",
              "      <td>ExtraTreesRegressor</td>\n",
              "      <td>SVR</td>\n",
              "      <td>-2095.839426</td>\n",
              "      <td>-5.805646e+07</td>\n",
              "    </tr>\n",
              "    <tr>\n",
              "      <th>5</th>\n",
              "      <td>ExtraTreesRegressor</td>\n",
              "      <td>RandomForestRegressor</td>\n",
              "      <td>-1803.226111</td>\n",
              "      <td>-4.465269e+07</td>\n",
              "    </tr>\n",
              "    <tr>\n",
              "      <th>6</th>\n",
              "      <td>ExtraTreesRegressor</td>\n",
              "      <td>LGBMRegressor</td>\n",
              "      <td>-1786.685390</td>\n",
              "      <td>-4.662002e+07</td>\n",
              "    </tr>\n",
              "    <tr>\n",
              "      <th>7</th>\n",
              "      <td>ExtraTreesRegressor</td>\n",
              "      <td>XGBRegressor</td>\n",
              "      <td>-1784.694205</td>\n",
              "      <td>-3.990683e+07</td>\n",
              "    </tr>\n",
              "  </tbody>\n",
              "</table>\n",
              "</div>"
            ],
            "text/plain": [
              "               Imputer                  Model          MAE           MSE\n",
              "0        BayesianRidge                    SVR -2099.114188 -5.812997e+07\n",
              "1        BayesianRidge  RandomForestRegressor -1804.456371 -4.530888e+07\n",
              "2        BayesianRidge          LGBMRegressor -1868.074982 -4.935226e+07\n",
              "3        BayesianRidge           XGBRegressor -1778.330187 -4.131581e+07\n",
              "4  ExtraTreesRegressor                    SVR -2095.839426 -5.805646e+07\n",
              "5  ExtraTreesRegressor  RandomForestRegressor -1803.226111 -4.465269e+07\n",
              "6  ExtraTreesRegressor          LGBMRegressor -1786.685390 -4.662002e+07\n",
              "7  ExtraTreesRegressor           XGBRegressor -1784.694205 -3.990683e+07"
            ]
          },
          "metadata": {
            "tags": []
          },
          "execution_count": 23
        }
      ]
    },
    {
      "cell_type": "markdown",
      "metadata": {
        "id": "cw6A3O0P4zn1",
        "colab_type": "text"
      },
      "source": [
        "Como el desempeño de los dos imputadores es bastante similar, tomaremos ExtraTreesRegressor, el modelo con mejor desempeño (por un margen muy angosto) es RandomForestRegressor, sin embargo como la diferencia es tan baja con LGBM y este corre mas rapido estaremos usaremos este ultimo"
      ]
    },
    {
      "cell_type": "code",
      "metadata": {
        "id": "zwoOI_PrGaJY",
        "colab_type": "code",
        "colab": {
          "base_uri": "https://localhost:8080/",
          "height": 70
        },
        "outputId": "eeac80e8-6319-45fa-c6f3-604ced84a080"
      },
      "source": [
        "imputer=IterativeImputer(random_state=0, estimator=ExtraTreesRegressor(n_estimators=10,random_state=0))\n",
        "X_transformed=imputer.fit_transform(X)\n",
        "base_inputs=pd.DataFrame(X_transformed,columns=X.columns)\n",
        "model1=TransformedTargetRegressor(regressor=LGBMRegressor(random_state=0), func=np.log1p, inverse_func=np.expm1)"
      ],
      "execution_count": 24,
      "outputs": [
        {
          "output_type": "stream",
          "text": [
            "/usr/local/lib/python3.6/dist-packages/sklearn/impute/_iterative.py:638: ConvergenceWarning: [IterativeImputer] Early stopping criterion not reached.\n",
            "  \" reached.\", ConvergenceWarning)\n"
          ],
          "name": "stderr"
        }
      ]
    },
    {
      "cell_type": "code",
      "metadata": {
        "id": "jzjwrZO7x3iy",
        "colab_type": "code",
        "colab": {}
      },
      "source": [
        "base_inputs.to_csv('inputs.csv')\n",
        "Y.to_csv('target.csv')\n",
        "!cp inputs.csv \"/content/drive/My Drive/Datathon 2020/data\"\n",
        "!cp target.csv \"/content/drive/My Drive/Datathon 2020/data\""
      ],
      "execution_count": 25,
      "outputs": []
    },
    {
      "cell_type": "markdown",
      "metadata": {
        "id": "kJiLLGXOR-NV",
        "colab_type": "text"
      },
      "source": [
        "## Seleccion de variables o Feature Selection"
      ]
    },
    {
      "cell_type": "markdown",
      "metadata": {
        "id": "0JJ6wEE9SD8w",
        "colab_type": "text"
      },
      "source": [
        "Aqui procederemos a seleccionar las variables que pasaran a formar parte de nuestro algoritmo final, usando un forward SequentialFeatureSelector.\n"
      ]
    },
    {
      "cell_type": "code",
      "metadata": {
        "id": "7f9QB1RoJLpC",
        "colab_type": "code",
        "colab": {}
      },
      "source": [
        "feature_selector=SequentialFeatureSelector(model1,\n",
        "                                          k_features=50,\n",
        "                                          forward=True,\n",
        "                                          floating=False,\n",
        "                                          scoring='neg_mean_absolute_error',\n",
        "                                          cv=strat_k_fold)\n",
        "features=feature_selector.fit(base_inputs,Y)"
      ],
      "execution_count": 26,
      "outputs": []
    },
    {
      "cell_type": "code",
      "metadata": {
        "id": "uv__bkSBWTP-",
        "colab_type": "code",
        "colab": {
          "base_uri": "https://localhost:8080/",
          "height": 302
        },
        "outputId": "30441ad4-3c4c-44b8-8730-18984afe7e82"
      },
      "source": [
        "results=pd.DataFrame.from_dict(features.get_metric_dict()).T\n",
        "filtered_features=X.columns[list(features.k_feature_idx_)]\n",
        "print(filtered_features)"
      ],
      "execution_count": 27,
      "outputs": [
        {
          "output_type": "stream",
          "text": [
            "Index(['latitude', 'median_age', 'cvd_death_rate', 'diabetes_prevalence',\n",
            "       'female_smokers', 'male_smokers', 'handwashing_facilities',\n",
            "       'hospital_beds_per_thousand', 'border_closure',\n",
            "       'wear_protective_gear_in_public_requirement',\n",
            "       'businesses_and_public_services_closure', 'curfews',\n",
            "       'economic_measures', 'suspension_international_flights',\n",
            "       'imports_exports_limit', 'gatherings_limit', 'partial_lockdown',\n",
            "       'schools_closure', 'established_emergency',\n",
            "       'quarantine_isolation_policies', 'full_lockdown', 'mass_testing',\n",
            "       'checkpoints_within_the_country', 'military_deployment', 'Africa',\n",
            "       'Asia', 'Europe', 'North America', 'Oceania', 'South America', 'AFRO',\n",
            "       'AMRO', 'EMRO', 'EURO', 'SEARO', 'WPRO', 'airports_per_pop', 'diabetes',\n",
            "       'lit_rate', 'non_transm_mortality', 'n_cities_1', 'n_cities_2',\n",
            "       'n_cities_3', 'n_cities_4', 'log_population', 'log_gdp_per_capita',\n",
            "       'log_n_airports', 'log_turismo', 'tiempo',\n",
            "       'interaccion_negocios_turismo'],\n",
            "      dtype='object')\n"
          ],
          "name": "stdout"
        }
      ]
    },
    {
      "cell_type": "code",
      "metadata": {
        "id": "PQMlDGXyaH5k",
        "colab_type": "code",
        "colab": {
          "base_uri": "https://localhost:8080/",
          "height": 118
        },
        "outputId": "99a99fbe-11ec-4a9a-bc93-d2f24917a131"
      },
      "source": [
        "results['cv_scores'].head()"
      ],
      "execution_count": 28,
      "outputs": [
        {
          "output_type": "execute_result",
          "data": {
            "text/plain": [
              "1    [-1581.993032739743, -1815.0047520919618, -255...\n",
              "2    [-1487.697014522397, -1721.5136950593624, -250...\n",
              "3    [-1502.260513592294, -1621.8781135098213, -248...\n",
              "4    [-1330.1045864481098, -1566.1522139892957, -25...\n",
              "5    [-1342.5913232397934, -1500.6614492152135, -24...\n",
              "Name: cv_scores, dtype: object"
            ]
          },
          "metadata": {
            "tags": []
          },
          "execution_count": 28
        }
      ]
    },
    {
      "cell_type": "code",
      "metadata": {
        "id": "EQCl88xnWlVJ",
        "colab_type": "code",
        "colab": {
          "base_uri": "https://localhost:8080/",
          "height": 279
        },
        "outputId": "6fbdce51-b8dd-4a23-b5cf-dca46832b6c6"
      },
      "source": [
        "fig1 = plot_sfs(features.get_metric_dict(), kind='std_dev')"
      ],
      "execution_count": 29,
      "outputs": [
        {
          "output_type": "display_data",
          "data": {
            "image/png": "[encoded data removed]",
            "text/plain": [
              "<Figure size 1080x288 with 1 Axes>"
            ]
          },
          "metadata": {
            "tags": [],
            "needs_background": "light"
          }
        }
      ]
    },
    {
      "cell_type": "code",
      "metadata": {
        "id": "oUvCtaOBel59",
        "colab_type": "code",
        "colab": {
          "base_uri": "https://localhost:8080/",
          "height": 295
        },
        "outputId": "fcabe8f0-4245-4062-c9fc-5c87e6cde39d"
      },
      "source": [
        "diferencias_mae=results['avg_score']-results['avg_score'].shift(1)\n",
        "plt.figure(figsize=(15, 4))\n",
        "plt.bar(results.index[1:],diferencias_mae[1:])\n",
        "plt.xticks(results.index[1:])\n",
        "plt.title('Reduccion en MAE promedio en CV=3')\n",
        "plt.xlabel('Cantidad de variables')\n",
        "plt.ylabel('Delta de MAE Promedio')\n",
        "plt.show()"
      ],
      "execution_count": 30,
      "outputs": [
        {
          "output_type": "display_data",
          "data": {
            "image/png": "[encoded data removed]",
            "text/plain": [
              "<Figure size 1080x288 with 1 Axes>"
            ]
          },
          "metadata": {
            "tags": [],
            "needs_background": "light"
          }
        }
      ]
    },
    {
      "cell_type": "code",
      "metadata": {
        "id": "xcMXVtQKu7N6",
        "colab_type": "code",
        "colab": {}
      },
      "source": [
        "n_features=12\n",
        "list(results.feature_names[12])\n",
        "inputs_subset_model1=base_inputs[[c for c in base_inputs.columns if c in list(results.feature_names[30]) ]]"
      ],
      "execution_count": 31,
      "outputs": []
    },
    {
      "cell_type": "code",
      "metadata": {
        "id": "AJ8Q7xDhpgiP",
        "colab_type": "code",
        "colab": {
          "base_uri": "https://localhost:8080/",
          "height": 195
        },
        "outputId": "50eaf818-4ecb-41bf-8000-36f06926ca9a"
      },
      "source": [
        "results.head()"
      ],
      "execution_count": 32,
      "outputs": [
        {
          "output_type": "execute_result",
          "data": {
            "text/html": [
              "<div>\n",
              "<style scoped>\n",
              "    .dataframe tbody tr th:only-of-type {\n",
              "        vertical-align: middle;\n",
              "    }\n",
              "\n",
              "    .dataframe tbody tr th {\n",
              "        vertical-align: top;\n",
              "    }\n",
              "\n",
              "    .dataframe thead th {\n",
              "        text-align: right;\n",
              "    }\n",
              "</style>\n",
              "<table border=\"1\" class=\"dataframe\">\n",
              "  <thead>\n",
              "    <tr style=\"text-align: right;\">\n",
              "      <th></th>\n",
              "      <th>feature_idx</th>\n",
              "      <th>cv_scores</th>\n",
              "      <th>avg_score</th>\n",
              "      <th>feature_names</th>\n",
              "      <th>ci_bound</th>\n",
              "      <th>std_dev</th>\n",
              "      <th>std_err</th>\n",
              "    </tr>\n",
              "  </thead>\n",
              "  <tbody>\n",
              "    <tr>\n",
              "      <th>1</th>\n",
              "      <td>(61,)</td>\n",
              "      <td>[-1581.993032739743, -1815.0047520919618, -255...</td>\n",
              "      <td>-1985.18</td>\n",
              "      <td>(log_turismo,)</td>\n",
              "      <td>937.112</td>\n",
              "      <td>416.433</td>\n",
              "      <td>294.463</td>\n",
              "    </tr>\n",
              "    <tr>\n",
              "      <th>2</th>\n",
              "      <td>(14, 61)</td>\n",
              "      <td>[-1487.697014522397, -1721.5136950593624, -250...</td>\n",
              "      <td>-1903.4</td>\n",
              "      <td>(border_closure, log_turismo)</td>\n",
              "      <td>974.873</td>\n",
              "      <td>433.213</td>\n",
              "      <td>306.328</td>\n",
              "    </tr>\n",
              "    <tr>\n",
              "      <th>3</th>\n",
              "      <td>(14, 54, 61)</td>\n",
              "      <td>[-1502.260513592294, -1621.8781135098213, -248...</td>\n",
              "      <td>-1870.78</td>\n",
              "      <td>(border_closure, n_cities_1, log_turismo)</td>\n",
              "      <td>988.572</td>\n",
              "      <td>439.301</td>\n",
              "      <td>310.633</td>\n",
              "    </tr>\n",
              "    <tr>\n",
              "      <th>4</th>\n",
              "      <td>(14, 54, 59, 61)</td>\n",
              "      <td>[-1330.1045864481098, -1566.1522139892957, -25...</td>\n",
              "      <td>-1816.3</td>\n",
              "      <td>(border_closure, n_cities_1, log_gdp_per_capit...</td>\n",
              "      <td>1191.6</td>\n",
              "      <td>529.522</td>\n",
              "      <td>374.429</td>\n",
              "    </tr>\n",
              "    <tr>\n",
              "      <th>5</th>\n",
              "      <td>(8, 14, 54, 59, 61)</td>\n",
              "      <td>[-1342.5913232397934, -1500.6614492152135, -24...</td>\n",
              "      <td>-1766.38</td>\n",
              "      <td>(diabetes_prevalence, border_closure, n_cities...</td>\n",
              "      <td>1106.74</td>\n",
              "      <td>491.813</td>\n",
              "      <td>347.764</td>\n",
              "    </tr>\n",
              "  </tbody>\n",
              "</table>\n",
              "</div>"
            ],
            "text/plain": [
              "           feature_idx  ...  std_err\n",
              "1                (61,)  ...  294.463\n",
              "2             (14, 61)  ...  306.328\n",
              "3         (14, 54, 61)  ...  310.633\n",
              "4     (14, 54, 59, 61)  ...  374.429\n",
              "5  (8, 14, 54, 59, 61)  ...  347.764\n",
              "\n",
              "[5 rows x 7 columns]"
            ]
          },
          "metadata": {
            "tags": []
          },
          "execution_count": 32
        }
      ]
    },
    {
      "cell_type": "code",
      "metadata": {
        "id": "LqFyP4nFW2zw",
        "colab_type": "code",
        "colab": {}
      },
      "source": [
        "reg=model1\n",
        "\n",
        "rf_space  = [Integer(1, 5, name='regressor__max_depth'),\n",
        "          Integer(1, 27, name='regressor__max_features'),\n",
        "          Integer(10,50,name='regressor__n_estimators'),\n",
        "          Integer(1, 10, name='regressor__min_samples_split'),\n",
        "          Integer(1, 10, name='regressor__min_samples_leaf'),\n",
        "          Real(10**-5,10**0,'log-uniform',name='regressor__learning_rate')]\n",
        "\n",
        "@use_named_args(rf_space)\n",
        "def objective(**params):\n",
        "    reg.set_params(**params)\n",
        "\n",
        "    return -np.mean(cross_val_score(reg, inputs_subset_model1, Y, cv=strat_k_fold, n_jobs=-1,\n",
        "                                    scoring=\"neg_mean_absolute_error\"))\n",
        "res_gp = gp_minimize(objective, rf_space, n_calls=50, random_state=0)"
      ],
      "execution_count": 33,
      "outputs": []
    },
    {
      "cell_type": "code",
      "metadata": {
        "id": "bujgtL0ef3gk",
        "colab_type": "code",
        "colab": {
          "base_uri": "https://localhost:8080/",
          "height": 314
        },
        "outputId": "014c9597-9d07-46d4-f377-0cecd77f3609"
      },
      "source": [
        "plot_convergence(res_gp)"
      ],
      "execution_count": 34,
      "outputs": [
        {
          "output_type": "execute_result",
          "data": {
            "text/plain": [
              "<matplotlib.axes._subplots.AxesSubplot at 0x7f886cc8f400>"
            ]
          },
          "metadata": {
            "tags": []
          },
          "execution_count": 34
        },
        {
          "output_type": "display_data",
          "data": {
            "image/png": "[encoded data removed]",
            "text/plain": [
              "<Figure size 1080x288 with 1 Axes>"
            ]
          },
          "metadata": {
            "tags": [],
            "needs_background": "light"
          }
        }
      ]
    },
    {
      "cell_type": "code",
      "metadata": {
        "id": "TrkEtuGnhB23",
        "colab_type": "code",
        "colab": {
          "base_uri": "https://localhost:8080/",
          "height": 34
        },
        "outputId": "becb2be8-32e1-4e86-a38e-7703bdc190d5"
      },
      "source": [
        "best_vals_model1=res_gp.x\n",
        "best_vals_model1"
      ],
      "execution_count": 35,
      "outputs": [
        {
          "output_type": "execute_result",
          "data": {
            "text/plain": [
              "[3, 12, 33, 8, 9, 0.3613755526951507]"
            ]
          },
          "metadata": {
            "tags": []
          },
          "execution_count": 35
        }
      ]
    },
    {
      "cell_type": "code",
      "metadata": {
        "id": "AqahhcyFiZ0y",
        "colab_type": "code",
        "colab": {}
      },
      "source": [
        "mod1=model1.set_params(**{'regressor__max_depth':best_vals_model1[0],'regressor__max_features':best_vals_model1[1],'regressor__n_estimators':best_vals_model1[2],'regressor__min_samples_split':best_vals_model1[3],\n",
        "                 'regressor__min_samples_leaf':best_vals_model1[4],'regressor__learning_rate':best_vals_model1[5]})\n",
        "preds1=cross_val_predict(mod1,inputs_subset_model1,Y,cv=strat_k_fold)\n",
        "\n"
      ],
      "execution_count": 36,
      "outputs": []
    },
    {
      "cell_type": "code",
      "metadata": {
        "id": "blLOkLiR2ZDk",
        "colab_type": "code",
        "colab": {
          "base_uri": "https://localhost:8080/",
          "height": 402
        },
        "outputId": "32518d15-c071-42f6-d1c0-e070df6867da"
      },
      "source": [
        "resultado_single_models=pd.DataFrame({'Country':base_completa.country_x,'Predicted':preds1,'Real':Y})\n",
        "resultado_single_models['error_absoluto']=np.abs(resultado_single_models['Predicted']-resultado_single_models['Real'])\n",
        "resultado_single_models.sort_values(by='error_absoluto',ascending=False)"
      ],
      "execution_count": 37,
      "outputs": [
        {
          "output_type": "execute_result",
          "data": {
            "text/html": [
              "<div>\n",
              "<style scoped>\n",
              "    .dataframe tbody tr th:only-of-type {\n",
              "        vertical-align: middle;\n",
              "    }\n",
              "\n",
              "    .dataframe tbody tr th {\n",
              "        vertical-align: top;\n",
              "    }\n",
              "\n",
              "    .dataframe thead th {\n",
              "        text-align: right;\n",
              "    }\n",
              "</style>\n",
              "<table border=\"1\" class=\"dataframe\">\n",
              "  <thead>\n",
              "    <tr style=\"text-align: right;\">\n",
              "      <th></th>\n",
              "      <th>Country</th>\n",
              "      <th>Predicted</th>\n",
              "      <th>Real</th>\n",
              "      <th>error_absoluto</th>\n",
              "    </tr>\n",
              "  </thead>\n",
              "  <tbody>\n",
              "    <tr>\n",
              "      <th>186</th>\n",
              "      <td>Turkey</td>\n",
              "      <td>7139.460068</td>\n",
              "      <td>61049</td>\n",
              "      <td>53909.539932</td>\n",
              "    </tr>\n",
              "    <tr>\n",
              "      <th>38</th>\n",
              "      <td>China</td>\n",
              "      <td>509.496559</td>\n",
              "      <td>40236</td>\n",
              "      <td>39726.503441</td>\n",
              "    </tr>\n",
              "    <tr>\n",
              "      <th>95</th>\n",
              "      <td>Italy</td>\n",
              "      <td>16327.053806</td>\n",
              "      <td>53578</td>\n",
              "      <td>37250.946194</td>\n",
              "    </tr>\n",
              "    <tr>\n",
              "      <th>172</th>\n",
              "      <td>Spain</td>\n",
              "      <td>18966.259831</td>\n",
              "      <td>47610</td>\n",
              "      <td>28643.740169</td>\n",
              "    </tr>\n",
              "    <tr>\n",
              "      <th>90</th>\n",
              "      <td>Iran (Islamic Republic of)</td>\n",
              "      <td>691.572453</td>\n",
              "      <td>20610</td>\n",
              "      <td>19918.427547</td>\n",
              "    </tr>\n",
              "    <tr>\n",
              "      <th>...</th>\n",
              "      <td>...</td>\n",
              "      <td>...</td>\n",
              "      <td>...</td>\n",
              "      <td>...</td>\n",
              "    </tr>\n",
              "    <tr>\n",
              "      <th>76</th>\n",
              "      <td>Grenada</td>\n",
              "      <td>21.883120</td>\n",
              "      <td>20</td>\n",
              "      <td>1.883120</td>\n",
              "    </tr>\n",
              "    <tr>\n",
              "      <th>35</th>\n",
              "      <td>Central African Republic</td>\n",
              "      <td>93.052682</td>\n",
              "      <td>94</td>\n",
              "      <td>0.947318</td>\n",
              "    </tr>\n",
              "    <tr>\n",
              "      <th>182</th>\n",
              "      <td>Timor-Leste</td>\n",
              "      <td>24.833099</td>\n",
              "      <td>24</td>\n",
              "      <td>0.833099</td>\n",
              "    </tr>\n",
              "    <tr>\n",
              "      <th>26</th>\n",
              "      <td>Brunei Darussalam</td>\n",
              "      <td>134.473210</td>\n",
              "      <td>135</td>\n",
              "      <td>0.526790</td>\n",
              "    </tr>\n",
              "    <tr>\n",
              "      <th>29</th>\n",
              "      <td>Burundi</td>\n",
              "      <td>42.278379</td>\n",
              "      <td>42</td>\n",
              "      <td>0.278379</td>\n",
              "    </tr>\n",
              "  </tbody>\n",
              "</table>\n",
              "<p>201 rows × 4 columns</p>\n",
              "</div>"
            ],
            "text/plain": [
              "                        Country     Predicted   Real  error_absoluto\n",
              "186                      Turkey   7139.460068  61049    53909.539932\n",
              "38                        China    509.496559  40236    39726.503441\n",
              "95                        Italy  16327.053806  53578    37250.946194\n",
              "172                       Spain  18966.259831  47610    28643.740169\n",
              "90   Iran (Islamic Republic of)    691.572453  20610    19918.427547\n",
              "..                          ...           ...    ...             ...\n",
              "76                      Grenada     21.883120     20        1.883120\n",
              "35     Central African Republic     93.052682     94        0.947318\n",
              "182                 Timor-Leste     24.833099     24        0.833099\n",
              "26            Brunei Darussalam    134.473210    135        0.526790\n",
              "29                      Burundi     42.278379     42        0.278379\n",
              "\n",
              "[201 rows x 4 columns]"
            ]
          },
          "metadata": {
            "tags": []
          },
          "execution_count": 37
        }
      ]
    },
    {
      "cell_type": "code",
      "metadata": {
        "id": "ICk3tehB7ikK",
        "colab_type": "code",
        "colab": {
          "base_uri": "https://localhost:8080/",
          "height": 34
        },
        "outputId": "ff49f686-ea99-4db0-94a3-753e5d1e4cad"
      },
      "source": [
        "np.mean(resultado_single_models['error_absoluto'])"
      ],
      "execution_count": 38,
      "outputs": [
        {
          "output_type": "execute_result",
          "data": {
            "text/plain": [
              "1557.5503364414667"
            ]
          },
          "metadata": {
            "tags": []
          },
          "execution_count": 38
        }
      ]
    },
    {
      "cell_type": "code",
      "metadata": {
        "id": "u24cl4Uv1oiU",
        "colab_type": "code",
        "colab": {}
      },
      "source": [
        "def evaluate(model, X, Y):\n",
        "    strat_k_fold = KFold(n_splits=3, shuffle=True, random_state=2020)\n",
        "    mae = make_scorer(mean_absolute_error)\n",
        "    return np.mean(cross_val_score(model, X, Y, scoring = mae, cv = strat_k_fold))"
      ],
      "execution_count": 39,
      "outputs": []
    },
    {
      "cell_type": "markdown",
      "metadata": {
        "id": "G4pAJoFH1vQi",
        "colab_type": "text"
      },
      "source": [
        "Aqui veremos nuestro resultado oficial para la competencia:"
      ]
    },
    {
      "cell_type": "code",
      "metadata": {
        "id": "P8txf4xs10oB",
        "colab_type": "code",
        "colab": {
          "base_uri": "https://localhost:8080/",
          "height": 34
        },
        "outputId": "5aea9fed-f0e2-4a67-d893-36bfc46f860b"
      },
      "source": [
        "evaluate(mod1,inputs_subset_model1,Y)"
      ],
      "execution_count": 40,
      "outputs": [
        {
          "output_type": "execute_result",
          "data": {
            "text/plain": [
              "1557.5503364414665"
            ]
          },
          "metadata": {
            "tags": []
          },
          "execution_count": 40
        }
      ]
    },
    {
      "cell_type": "code",
      "metadata": {
        "id": "3UCMrdg6fE6n",
        "colab_type": "code",
        "colab": {}
      },
      "source": [
        "resultado_importancia=cross_validate(mod1,inputs_subset_model1,Y,return_estimator=True,cv=strat_k_fold)"
      ],
      "execution_count": 41,
      "outputs": []
    },
    {
      "cell_type": "code",
      "metadata": {
        "id": "KcIa1gX-i0ho",
        "colab_type": "code",
        "colab": {
          "base_uri": "https://localhost:8080/",
          "height": 1000
        },
        "outputId": "91dcf56b-8d86-420a-c8e0-010a5bf19f7c"
      },
      "source": [
        "data=pd.DataFrame(index=inputs_subset_model1.columns)\n",
        "for idx,estimator in enumerate(resultado_importancia['estimator']):\n",
        "    print(\"Features sorted by their score for estimator {}:\".format(idx))\n",
        "    col='importance_'+str(idx)\n",
        "    feature_importances = pd.DataFrame(estimator.regressor_.feature_importances_,\n",
        "                                       index = inputs_subset_model1.columns,\n",
        "                                        columns=[col])\n",
        "    data=pd.merge(data,feature_importances,left_index=True,right_index=True)\n",
        "    print(feature_importances)"
      ],
      "execution_count": 42,
      "outputs": [
        {
          "output_type": "stream",
          "text": [
            "Features sorted by their score for estimator 0:\n",
            "                                        importance_0\n",
            "diabetes_prevalence                               26\n",
            "female_smokers                                    15\n",
            "male_smokers                                      12\n",
            "border_closure                                     4\n",
            "businesses_and_public_services_closure             1\n",
            "curfews                                            2\n",
            "imports_exports_limit                              0\n",
            "partial_lockdown                                   2\n",
            "established_emergency                              0\n",
            "quarantine_isolation_policies                      0\n",
            "full_lockdown                                      0\n",
            "mass_testing                                       0\n",
            "checkpoints_within_the_country                     0\n",
            "Europe                                             0\n",
            "Oceania                                            0\n",
            "South America                                      0\n",
            "AFRO                                               0\n",
            "AMRO                                               0\n",
            "EMRO                                               0\n",
            "EURO                                               5\n",
            "SEARO                                              0\n",
            "WPRO                                               0\n",
            "n_cities_1                                         3\n",
            "n_cities_2                                         8\n",
            "n_cities_3                                         0\n",
            "n_cities_4                                         0\n",
            "log_gdp_per_capita                                20\n",
            "log_turismo                                       12\n",
            "tiempo                                            11\n",
            "interaccion_negocios_turismo                       0\n",
            "Features sorted by their score for estimator 1:\n",
            "                                        importance_1\n",
            "diabetes_prevalence                               11\n",
            "female_smokers                                     8\n",
            "male_smokers                                      17\n",
            "border_closure                                     3\n",
            "businesses_and_public_services_closure             3\n",
            "curfews                                            1\n",
            "imports_exports_limit                              0\n",
            "partial_lockdown                                   2\n",
            "established_emergency                              3\n",
            "quarantine_isolation_policies                      0\n",
            "full_lockdown                                      0\n",
            "mass_testing                                       0\n",
            "checkpoints_within_the_country                     0\n",
            "Europe                                             1\n",
            "Oceania                                            0\n",
            "South America                                      0\n",
            "AFRO                                               2\n",
            "AMRO                                               0\n",
            "EMRO                                               0\n",
            "EURO                                               5\n",
            "SEARO                                              0\n",
            "WPRO                                               0\n",
            "n_cities_1                                         7\n",
            "n_cities_2                                         5\n",
            "n_cities_3                                         1\n",
            "n_cities_4                                         0\n",
            "log_gdp_per_capita                                16\n",
            "log_turismo                                       18\n",
            "tiempo                                            11\n",
            "interaccion_negocios_turismo                       0\n",
            "Features sorted by their score for estimator 2:\n",
            "                                        importance_2\n",
            "diabetes_prevalence                               14\n",
            "female_smokers                                    11\n",
            "male_smokers                                      13\n",
            "border_closure                                     3\n",
            "businesses_and_public_services_closure             1\n",
            "curfews                                            2\n",
            "imports_exports_limit                              0\n",
            "partial_lockdown                                   4\n",
            "established_emergency                              0\n",
            "quarantine_isolation_policies                      0\n",
            "full_lockdown                                      0\n",
            "mass_testing                                       0\n",
            "checkpoints_within_the_country                     0\n",
            "Europe                                             1\n",
            "Oceania                                            0\n",
            "South America                                      0\n",
            "AFRO                                               0\n",
            "AMRO                                               0\n",
            "EMRO                                               0\n",
            "EURO                                               7\n",
            "SEARO                                              0\n",
            "WPRO                                               0\n",
            "n_cities_1                                        12\n",
            "n_cities_2                                         2\n",
            "n_cities_3                                         0\n",
            "n_cities_4                                         0\n",
            "log_gdp_per_capita                                14\n",
            "log_turismo                                       19\n",
            "tiempo                                            14\n",
            "interaccion_negocios_turismo                       0\n"
          ],
          "name": "stdout"
        }
      ]
    },
    {
      "cell_type": "code",
      "metadata": {
        "id": "LvOF81AFj1ZP",
        "colab_type": "code",
        "colab": {
          "base_uri": "https://localhost:8080/",
          "height": 935
        },
        "outputId": "d8224ccd-fac6-4e6d-8077-b3cd9fd43bc5"
      },
      "source": [
        "data['importancia_promedio']=data.mean(axis=1)\n",
        "data['importancia_sd']=data.std(axis=1)\n",
        "data.sort_values(by='importancia_promedio',ascending=False)"
      ],
      "execution_count": 43,
      "outputs": [
        {
          "output_type": "execute_result",
          "data": {
            "text/html": [
              "<div>\n",
              "<style scoped>\n",
              "    .dataframe tbody tr th:only-of-type {\n",
              "        vertical-align: middle;\n",
              "    }\n",
              "\n",
              "    .dataframe tbody tr th {\n",
              "        vertical-align: top;\n",
              "    }\n",
              "\n",
              "    .dataframe thead th {\n",
              "        text-align: right;\n",
              "    }\n",
              "</style>\n",
              "<table border=\"1\" class=\"dataframe\">\n",
              "  <thead>\n",
              "    <tr style=\"text-align: right;\">\n",
              "      <th></th>\n",
              "      <th>importance_0</th>\n",
              "      <th>importance_1</th>\n",
              "      <th>importance_2</th>\n",
              "      <th>importancia_promedio</th>\n",
              "      <th>importancia_sd</th>\n",
              "    </tr>\n",
              "  </thead>\n",
              "  <tbody>\n",
              "    <tr>\n",
              "      <th>diabetes_prevalence</th>\n",
              "      <td>26</td>\n",
              "      <td>11</td>\n",
              "      <td>14</td>\n",
              "      <td>17.000000</td>\n",
              "      <td>6.480741</td>\n",
              "    </tr>\n",
              "    <tr>\n",
              "      <th>log_gdp_per_capita</th>\n",
              "      <td>20</td>\n",
              "      <td>16</td>\n",
              "      <td>14</td>\n",
              "      <td>16.666667</td>\n",
              "      <td>2.494438</td>\n",
              "    </tr>\n",
              "    <tr>\n",
              "      <th>log_turismo</th>\n",
              "      <td>12</td>\n",
              "      <td>18</td>\n",
              "      <td>19</td>\n",
              "      <td>16.333333</td>\n",
              "      <td>3.091206</td>\n",
              "    </tr>\n",
              "    <tr>\n",
              "      <th>male_smokers</th>\n",
              "      <td>12</td>\n",
              "      <td>17</td>\n",
              "      <td>13</td>\n",
              "      <td>14.000000</td>\n",
              "      <td>2.160247</td>\n",
              "    </tr>\n",
              "    <tr>\n",
              "      <th>tiempo</th>\n",
              "      <td>11</td>\n",
              "      <td>11</td>\n",
              "      <td>14</td>\n",
              "      <td>12.000000</td>\n",
              "      <td>1.414214</td>\n",
              "    </tr>\n",
              "    <tr>\n",
              "      <th>female_smokers</th>\n",
              "      <td>15</td>\n",
              "      <td>8</td>\n",
              "      <td>11</td>\n",
              "      <td>11.333333</td>\n",
              "      <td>2.867442</td>\n",
              "    </tr>\n",
              "    <tr>\n",
              "      <th>n_cities_1</th>\n",
              "      <td>3</td>\n",
              "      <td>7</td>\n",
              "      <td>12</td>\n",
              "      <td>7.333333</td>\n",
              "      <td>3.681787</td>\n",
              "    </tr>\n",
              "    <tr>\n",
              "      <th>EURO</th>\n",
              "      <td>5</td>\n",
              "      <td>5</td>\n",
              "      <td>7</td>\n",
              "      <td>5.666667</td>\n",
              "      <td>0.942809</td>\n",
              "    </tr>\n",
              "    <tr>\n",
              "      <th>n_cities_2</th>\n",
              "      <td>8</td>\n",
              "      <td>5</td>\n",
              "      <td>2</td>\n",
              "      <td>5.000000</td>\n",
              "      <td>2.449490</td>\n",
              "    </tr>\n",
              "    <tr>\n",
              "      <th>border_closure</th>\n",
              "      <td>4</td>\n",
              "      <td>3</td>\n",
              "      <td>3</td>\n",
              "      <td>3.333333</td>\n",
              "      <td>0.471405</td>\n",
              "    </tr>\n",
              "    <tr>\n",
              "      <th>partial_lockdown</th>\n",
              "      <td>2</td>\n",
              "      <td>2</td>\n",
              "      <td>4</td>\n",
              "      <td>2.666667</td>\n",
              "      <td>0.942809</td>\n",
              "    </tr>\n",
              "    <tr>\n",
              "      <th>curfews</th>\n",
              "      <td>2</td>\n",
              "      <td>1</td>\n",
              "      <td>2</td>\n",
              "      <td>1.666667</td>\n",
              "      <td>0.471405</td>\n",
              "    </tr>\n",
              "    <tr>\n",
              "      <th>businesses_and_public_services_closure</th>\n",
              "      <td>1</td>\n",
              "      <td>3</td>\n",
              "      <td>1</td>\n",
              "      <td>1.666667</td>\n",
              "      <td>0.942809</td>\n",
              "    </tr>\n",
              "    <tr>\n",
              "      <th>established_emergency</th>\n",
              "      <td>0</td>\n",
              "      <td>3</td>\n",
              "      <td>0</td>\n",
              "      <td>1.000000</td>\n",
              "      <td>1.414214</td>\n",
              "    </tr>\n",
              "    <tr>\n",
              "      <th>Europe</th>\n",
              "      <td>0</td>\n",
              "      <td>1</td>\n",
              "      <td>1</td>\n",
              "      <td>0.666667</td>\n",
              "      <td>0.471405</td>\n",
              "    </tr>\n",
              "    <tr>\n",
              "      <th>AFRO</th>\n",
              "      <td>0</td>\n",
              "      <td>2</td>\n",
              "      <td>0</td>\n",
              "      <td>0.666667</td>\n",
              "      <td>0.942809</td>\n",
              "    </tr>\n",
              "    <tr>\n",
              "      <th>n_cities_3</th>\n",
              "      <td>0</td>\n",
              "      <td>1</td>\n",
              "      <td>0</td>\n",
              "      <td>0.333333</td>\n",
              "      <td>0.471405</td>\n",
              "    </tr>\n",
              "    <tr>\n",
              "      <th>SEARO</th>\n",
              "      <td>0</td>\n",
              "      <td>0</td>\n",
              "      <td>0</td>\n",
              "      <td>0.000000</td>\n",
              "      <td>0.000000</td>\n",
              "    </tr>\n",
              "    <tr>\n",
              "      <th>WPRO</th>\n",
              "      <td>0</td>\n",
              "      <td>0</td>\n",
              "      <td>0</td>\n",
              "      <td>0.000000</td>\n",
              "      <td>0.000000</td>\n",
              "    </tr>\n",
              "    <tr>\n",
              "      <th>n_cities_4</th>\n",
              "      <td>0</td>\n",
              "      <td>0</td>\n",
              "      <td>0</td>\n",
              "      <td>0.000000</td>\n",
              "      <td>0.000000</td>\n",
              "    </tr>\n",
              "    <tr>\n",
              "      <th>South America</th>\n",
              "      <td>0</td>\n",
              "      <td>0</td>\n",
              "      <td>0</td>\n",
              "      <td>0.000000</td>\n",
              "      <td>0.000000</td>\n",
              "    </tr>\n",
              "    <tr>\n",
              "      <th>EMRO</th>\n",
              "      <td>0</td>\n",
              "      <td>0</td>\n",
              "      <td>0</td>\n",
              "      <td>0.000000</td>\n",
              "      <td>0.000000</td>\n",
              "    </tr>\n",
              "    <tr>\n",
              "      <th>AMRO</th>\n",
              "      <td>0</td>\n",
              "      <td>0</td>\n",
              "      <td>0</td>\n",
              "      <td>0.000000</td>\n",
              "      <td>0.000000</td>\n",
              "    </tr>\n",
              "    <tr>\n",
              "      <th>Oceania</th>\n",
              "      <td>0</td>\n",
              "      <td>0</td>\n",
              "      <td>0</td>\n",
              "      <td>0.000000</td>\n",
              "      <td>0.000000</td>\n",
              "    </tr>\n",
              "    <tr>\n",
              "      <th>checkpoints_within_the_country</th>\n",
              "      <td>0</td>\n",
              "      <td>0</td>\n",
              "      <td>0</td>\n",
              "      <td>0.000000</td>\n",
              "      <td>0.000000</td>\n",
              "    </tr>\n",
              "    <tr>\n",
              "      <th>mass_testing</th>\n",
              "      <td>0</td>\n",
              "      <td>0</td>\n",
              "      <td>0</td>\n",
              "      <td>0.000000</td>\n",
              "      <td>0.000000</td>\n",
              "    </tr>\n",
              "    <tr>\n",
              "      <th>full_lockdown</th>\n",
              "      <td>0</td>\n",
              "      <td>0</td>\n",
              "      <td>0</td>\n",
              "      <td>0.000000</td>\n",
              "      <td>0.000000</td>\n",
              "    </tr>\n",
              "    <tr>\n",
              "      <th>quarantine_isolation_policies</th>\n",
              "      <td>0</td>\n",
              "      <td>0</td>\n",
              "      <td>0</td>\n",
              "      <td>0.000000</td>\n",
              "      <td>0.000000</td>\n",
              "    </tr>\n",
              "    <tr>\n",
              "      <th>imports_exports_limit</th>\n",
              "      <td>0</td>\n",
              "      <td>0</td>\n",
              "      <td>0</td>\n",
              "      <td>0.000000</td>\n",
              "      <td>0.000000</td>\n",
              "    </tr>\n",
              "    <tr>\n",
              "      <th>interaccion_negocios_turismo</th>\n",
              "      <td>0</td>\n",
              "      <td>0</td>\n",
              "      <td>0</td>\n",
              "      <td>0.000000</td>\n",
              "      <td>0.000000</td>\n",
              "    </tr>\n",
              "  </tbody>\n",
              "</table>\n",
              "</div>"
            ],
            "text/plain": [
              "                                        importance_0  ...  importancia_sd\n",
              "diabetes_prevalence                               26  ...        6.480741\n",
              "log_gdp_per_capita                                20  ...        2.494438\n",
              "log_turismo                                       12  ...        3.091206\n",
              "male_smokers                                      12  ...        2.160247\n",
              "tiempo                                            11  ...        1.414214\n",
              "female_smokers                                    15  ...        2.867442\n",
              "n_cities_1                                         3  ...        3.681787\n",
              "EURO                                               5  ...        0.942809\n",
              "n_cities_2                                         8  ...        2.449490\n",
              "border_closure                                     4  ...        0.471405\n",
              "partial_lockdown                                   2  ...        0.942809\n",
              "curfews                                            2  ...        0.471405\n",
              "businesses_and_public_services_closure             1  ...        0.942809\n",
              "established_emergency                              0  ...        1.414214\n",
              "Europe                                             0  ...        0.471405\n",
              "AFRO                                               0  ...        0.942809\n",
              "n_cities_3                                         0  ...        0.471405\n",
              "SEARO                                              0  ...        0.000000\n",
              "WPRO                                               0  ...        0.000000\n",
              "n_cities_4                                         0  ...        0.000000\n",
              "South America                                      0  ...        0.000000\n",
              "EMRO                                               0  ...        0.000000\n",
              "AMRO                                               0  ...        0.000000\n",
              "Oceania                                            0  ...        0.000000\n",
              "checkpoints_within_the_country                     0  ...        0.000000\n",
              "mass_testing                                       0  ...        0.000000\n",
              "full_lockdown                                      0  ...        0.000000\n",
              "quarantine_isolation_policies                      0  ...        0.000000\n",
              "imports_exports_limit                              0  ...        0.000000\n",
              "interaccion_negocios_turismo                       0  ...        0.000000\n",
              "\n",
              "[30 rows x 5 columns]"
            ]
          },
          "metadata": {
            "tags": []
          },
          "execution_count": 43
        }
      ]
    },
    {
      "cell_type": "code",
      "metadata": {
        "id": "hv-vFpybLE67",
        "colab_type": "code",
        "colab": {
          "base_uri": "https://localhost:8080/",
          "height": 312
        },
        "outputId": "09a33395-fdd5-49a9-b067-83ace060b358"
      },
      "source": [
        "most_important_vars=data.sort_values(by='importancia_promedio',ascending=False).head()\n",
        "fig, ax = plt.subplots()\n",
        "ax.barh(most_important_vars.index,most_important_vars.importancia_promedio,xerr=most_important_vars.importancia_sd)\n",
        "ax.invert_yaxis()\n",
        "ax.set_xlabel('Importancia relativa')\n",
        "ax.set_title('Top 5 variables mas importantes en LGBMRegressor')"
      ],
      "execution_count": 44,
      "outputs": [
        {
          "output_type": "execute_result",
          "data": {
            "text/plain": [
              "Text(0.5, 1.0, 'Top 5 variables mas importantes en LGBMRegressor')"
            ]
          },
          "metadata": {
            "tags": []
          },
          "execution_count": 44
        },
        {
          "output_type": "display_data",
          "data": {
            "image/png": "[encoded data removed]",
            "text/plain": [
              "<Figure size 1080x288 with 1 Axes>"
            ]
          },
          "metadata": {
            "tags": [],
            "needs_background": "light"
          }
        }
      ]
    }
  ]
}